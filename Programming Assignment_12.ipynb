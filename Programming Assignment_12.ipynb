{
 "cells": [
  {
   "cell_type": "markdown",
   "id": "4c797a2f",
   "metadata": {},
   "source": [
    "### 1. Write a Python program to Extract Unique values dictionary values?"
   ]
  },
  {
   "cell_type": "code",
   "execution_count": 1,
   "id": "4f3ca4d4",
   "metadata": {},
   "outputs": [
    {
     "name": "stdout",
     "output_type": "stream",
     "text": [
      "['value3', 'value2', 'value1']\n"
     ]
    }
   ],
   "source": [
    "def extract_unique_values(dictionary):\n",
    "    unique_values = set()\n",
    "\n",
    "    for values in dictionary.values():\n",
    "        if isinstance(values, list) or isinstance(values, tuple):\n",
    "            unique_values.update(values)\n",
    "        else:\n",
    "            unique_values.add(values)\n",
    "\n",
    "    return list(unique_values)\n",
    "\n",
    "# Example usage\n",
    "my_dict = {\n",
    "    'key1': 'value1',\n",
    "    'key2': 'value2',\n",
    "    'key3': ['value1', 'value2', 'value3'],\n",
    "    'key4': 'value3'\n",
    "}\n",
    "\n",
    "unique_values = extract_unique_values(my_dict)\n",
    "print(unique_values)\n"
   ]
  },
  {
   "cell_type": "markdown",
   "id": "a7819207",
   "metadata": {},
   "source": [
    "### 2. Write a Python program to find the sum of all items in a dictionary?"
   ]
  },
  {
   "cell_type": "code",
   "execution_count": 2,
   "id": "c31818bf",
   "metadata": {},
   "outputs": [
    {
     "name": "stdout",
     "output_type": "stream",
     "text": [
      "Sum of dictionary items: 60\n"
     ]
    }
   ],
   "source": [
    "def sum_dictionary_items(dictionary):\n",
    "    total_sum = sum(dictionary.values())\n",
    "    return total_sum\n",
    "\n",
    "# Example usage\n",
    "my_dict = {\n",
    "    'item1': 10,\n",
    "    'item2': 20,\n",
    "    'item3': 30\n",
    "}\n",
    "\n",
    "dictionary_sum = sum_dictionary_items(my_dict)\n",
    "print(\"Sum of dictionary items:\", dictionary_sum)\n"
   ]
  },
  {
   "cell_type": "markdown",
   "id": "ad626fe4",
   "metadata": {},
   "source": [
    "### 3. Write a Python program to Merging two Dictionaries?"
   ]
  },
  {
   "cell_type": "code",
   "execution_count": 3,
   "id": "e97455cd",
   "metadata": {},
   "outputs": [
    {
     "name": "stdout",
     "output_type": "stream",
     "text": [
      "Merged dictionary: {'a': 1, 'b': 2, 'c': 3, 'd': 4}\n"
     ]
    }
   ],
   "source": [
    "def merge_dictionaries(dict1, dict2):\n",
    "    merged_dict = {**dict1, **dict2}\n",
    "    return merged_dict\n",
    "\n",
    "# Example usage\n",
    "dict1 = {'a': 1, 'b': 2}\n",
    "dict2 = {'c': 3, 'd': 4}\n",
    "\n",
    "merged_dict = merge_dictionaries(dict1, dict2)\n",
    "print(\"Merged dictionary:\", merged_dict)\n"
   ]
  },
  {
   "cell_type": "markdown",
   "id": "dc2b2c55",
   "metadata": {},
   "source": [
    "### 4. Write a Python program to convert key-values list to flat dictionary?"
   ]
  },
  {
   "cell_type": "code",
   "execution_count": 4,
   "id": "f25ff921",
   "metadata": {},
   "outputs": [
    {
     "name": "stdout",
     "output_type": "stream",
     "text": [
      "Flat Dictionary: {'a': 1, 'b': 2, 'c': 3}\n"
     ]
    }
   ],
   "source": [
    "def convert_to_flat_dictionary(key_value_list):\n",
    "    flat_dict = {}\n",
    "\n",
    "    for pair in key_value_list:\n",
    "        key, value = pair\n",
    "        flat_dict[key] = value\n",
    "\n",
    "    return flat_dict\n",
    "\n",
    "# Example usage\n",
    "key_value_list = [('a', 1), ('b', 2), ('c', 3)]\n",
    "\n",
    "flat_dictionary = convert_to_flat_dictionary(key_value_list)\n",
    "print(\"Flat Dictionary:\", flat_dictionary)\n"
   ]
  },
  {
   "cell_type": "markdown",
   "id": "666d7d98",
   "metadata": {},
   "source": [
    "### 5. Write a Python program to insertion at the beginning in OrderedDict?"
   ]
  },
  {
   "cell_type": "code",
   "execution_count": 5,
   "id": "c0ee9444",
   "metadata": {},
   "outputs": [
    {
     "name": "stdout",
     "output_type": "stream",
     "text": [
      "Initial OrderedDict: OrderedDict([('a', 1), ('b', 2), ('c', 3)])\n",
      "OrderedDict after insertion: OrderedDict([('x', 10), ('a', 1), ('b', 2), ('c', 3)])\n"
     ]
    }
   ],
   "source": [
    "from collections import OrderedDict\n",
    "\n",
    "def insert_at_beginning(ordered_dict, key, value):\n",
    "    ordered_dict[key] = value\n",
    "    ordered_dict.move_to_end(key, last=False)\n",
    "\n",
    "# Example usage\n",
    "my_ordered_dict = OrderedDict([('a', 1), ('b', 2), ('c', 3)])\n",
    "\n",
    "print(\"Initial OrderedDict:\", my_ordered_dict)\n",
    "\n",
    "insert_at_beginning(my_ordered_dict, 'x', 10)\n",
    "print(\"OrderedDict after insertion:\", my_ordered_dict)\n"
   ]
  },
  {
   "cell_type": "markdown",
   "id": "154009a4",
   "metadata": {},
   "source": [
    "### 6. Write a Python program to check order of character in string using OrderedDict()?"
   ]
  },
  {
   "cell_type": "code",
   "execution_count": 6,
   "id": "01123c9a",
   "metadata": {},
   "outputs": [
    {
     "name": "stdout",
     "output_type": "stream",
     "text": [
      "The order of characters in the string matches the pattern.\n"
     ]
    }
   ],
   "source": [
    "from collections import OrderedDict\n",
    "\n",
    "def check_order_of_characters(string, pattern):\n",
    "    char_order_dict = OrderedDict.fromkeys(string)\n",
    "\n",
    "    pattern_length = len(pattern)\n",
    "    match_count = 0\n",
    "\n",
    "    for char in char_order_dict:\n",
    "        if char == pattern[match_count]:\n",
    "            match_count += 1\n",
    "\n",
    "        if match_count == pattern_length:\n",
    "            return True\n",
    "\n",
    "    return False\n",
    "\n",
    "# Example usage\n",
    "input_string = \"Hello World\"\n",
    "search_pattern = \"loW\"\n",
    "\n",
    "order_match = check_order_of_characters(input_string, search_pattern)\n",
    "if order_match:\n",
    "    print(\"The order of characters in the string matches the pattern.\")\n",
    "else:\n",
    "    print(\"The order of characters in the string does not match the pattern.\")\n"
   ]
  },
  {
   "cell_type": "markdown",
   "id": "803347ca",
   "metadata": {},
   "source": [
    "### 7. Write a Python program to sort Python Dictionaries by Key or Value?"
   ]
  },
  {
   "cell_type": "code",
   "execution_count": 8,
   "id": "bff9f153",
   "metadata": {},
   "outputs": [
    {
     "name": "stdout",
     "output_type": "stream",
     "text": [
      "Sorted by Key: {'a': 1, 'b': 2, 'c': 3, 'd': 4}\n",
      "Sorted by Value: {'a': 1, 'b': 2, 'c': 3, 'd': 4}\n"
     ]
    }
   ],
   "source": [
    "def sort_dictionary(dictionary, by_key=True):\n",
    "    sorted_dict = {}\n",
    "\n",
    "    if by_key:\n",
    "        sorted_keys = sorted(dictionary.keys())\n",
    "        for key in sorted_keys:\n",
    "            sorted_dict[key] = dictionary[key]\n",
    "    else:\n",
    "        sorted_items = sorted(dictionary.items(), key=lambda x: x[1])\n",
    "        for item in sorted_items:\n",
    "            sorted_dict[item[0]] = item[1]\n",
    "\n",
    "    return sorted_dict\n",
    "\n",
    "# Example usage\n",
    "my_dict = {'b': 2, 'a': 1, 'd': 4, 'c': 3}\n",
    "\n",
    "# Sort by key\n",
    "sorted_by_key = sort_dictionary(my_dict, by_key=True)\n",
    "print(\"Sorted by Key:\", sorted_by_key)\n",
    "\n",
    "# Sort by value\n",
    "sorted_by_value = sort_dictionary(my_dict, by_key=False)\n",
    "print(\"Sorted by Value:\", sorted_by_value)\n"
   ]
  },
  {
   "cell_type": "code",
   "execution_count": null,
   "id": "7f0ad04a",
   "metadata": {},
   "outputs": [],
   "source": []
  }
 ],
 "metadata": {
  "kernelspec": {
   "display_name": "Python 3 (ipykernel)",
   "language": "python",
   "name": "python3"
  },
  "language_info": {
   "codemirror_mode": {
    "name": "ipython",
    "version": 3
   },
   "file_extension": ".py",
   "mimetype": "text/x-python",
   "name": "python",
   "nbconvert_exporter": "python",
   "pygments_lexer": "ipython3",
   "version": "3.10.9"
  }
 },
 "nbformat": 4,
 "nbformat_minor": 5
}
