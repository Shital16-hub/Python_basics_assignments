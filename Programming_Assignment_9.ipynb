{
 "cells": [
  {
   "cell_type": "markdown",
   "id": "bffb20a9",
   "metadata": {},
   "source": [
    "### 1. Write a Python program to check if the given number is a Disarium Number?"
   ]
  },
  {
   "cell_type": "code",
   "execution_count": 1,
   "id": "d8483958",
   "metadata": {},
   "outputs": [
    {
     "name": "stdout",
     "output_type": "stream",
     "text": [
      "Enter a number: 89\n",
      "89 is a Disarium number.\n"
     ]
    }
   ],
   "source": [
    "def is_disarium_number(num):\n",
    "    # Convert the number to a string to iterate over its digits\n",
    "    num_str = str(num)\n",
    "    n = len(num_str)\n",
    "    sum_digits = 0\n",
    "\n",
    "    # Iterate over each digit and calculate the sum of its raised position\n",
    "    for i, digit in enumerate(num_str):\n",
    "        sum_digits += int(digit) ** (i + 1)\n",
    "\n",
    "    # Check if the sum is equal to the original number\n",
    "    if sum_digits == num:\n",
    "        return True\n",
    "    else:\n",
    "        return False\n",
    "\n",
    "# Test the function with a number\n",
    "number = int(input(\"Enter a number: \"))\n",
    "if is_disarium_number(number):\n",
    "    print(number, \"is a Disarium number.\")\n",
    "else:\n",
    "    print(number, \"is not a Disarium number.\")\n"
   ]
  },
  {
   "cell_type": "markdown",
   "id": "7fd424fc",
   "metadata": {},
   "source": [
    "### 2. Write a Python program to print all disarium numbers between 1 to 100?"
   ]
  },
  {
   "cell_type": "code",
   "execution_count": 2,
   "id": "458f5c01",
   "metadata": {},
   "outputs": [
    {
     "name": "stdout",
     "output_type": "stream",
     "text": [
      "Disarium numbers between 1 and 100:\n",
      "1\n",
      "2\n",
      "3\n",
      "4\n",
      "5\n",
      "6\n",
      "7\n",
      "8\n",
      "9\n",
      "89\n"
     ]
    }
   ],
   "source": [
    "def is_disarium_number(num):\n",
    "    num_str = str(num)\n",
    "    n = len(num_str)\n",
    "    sum_digits = 0\n",
    "\n",
    "    for i, digit in enumerate(num_str):\n",
    "        sum_digits += int(digit) ** (i + 1)\n",
    "\n",
    "    if sum_digits == num:\n",
    "        return True\n",
    "    else:\n",
    "        return False\n",
    "\n",
    "\n",
    "print(\"Disarium numbers between 1 and 100:\")\n",
    "for number in range(1, 101):\n",
    "    if is_disarium_number(number):\n",
    "        print(number)\n"
   ]
  },
  {
   "cell_type": "markdown",
   "id": "5f6936b7",
   "metadata": {},
   "source": [
    "### 3. Write a Python program to check if the given number is Happy Number?"
   ]
  },
  {
   "cell_type": "code",
   "execution_count": 3,
   "id": "70830dbf",
   "metadata": {},
   "outputs": [
    {
     "name": "stdout",
     "output_type": "stream",
     "text": [
      "Enter a number: 82\n",
      "82 is a happy number.\n"
     ]
    }
   ],
   "source": [
    "def is_happy_number(num):\n",
    "    seen_numbers = set()\n",
    "\n",
    "    while num != 1:\n",
    "        # If the number is already seen, it is in a cycle and not a happy number\n",
    "        if num in seen_numbers:\n",
    "            return False\n",
    "        \n",
    "        seen_numbers.add(num)\n",
    "        digits = [int(digit) for digit in str(num)]\n",
    "        num = sum([digit**2 for digit in digits])\n",
    "\n",
    "    return True\n",
    "\n",
    "\n",
    "# Test the function with a number\n",
    "number = int(input(\"Enter a number: \"))\n",
    "if is_happy_number(number):\n",
    "    print(number, \"is a happy number.\")\n",
    "else:\n",
    "    print(number, \"is not a happy number.\")\n"
   ]
  },
  {
   "cell_type": "markdown",
   "id": "659b8985",
   "metadata": {},
   "source": [
    "### 4. Write a Python program to print all happy numbers between 1 and 100?"
   ]
  },
  {
   "cell_type": "code",
   "execution_count": 4,
   "id": "d55bd260",
   "metadata": {},
   "outputs": [
    {
     "name": "stdout",
     "output_type": "stream",
     "text": [
      "Happy numbers between 1 and 100:\n",
      "1\n",
      "7\n",
      "10\n",
      "13\n",
      "19\n",
      "23\n",
      "28\n",
      "31\n",
      "32\n",
      "44\n",
      "49\n",
      "68\n",
      "70\n",
      "79\n",
      "82\n",
      "86\n",
      "91\n",
      "94\n",
      "97\n",
      "100\n"
     ]
    }
   ],
   "source": [
    "def is_happy_number(num):\n",
    "    seen_numbers = set()\n",
    "\n",
    "    while num != 1:\n",
    "        if num in seen_numbers:\n",
    "            return False\n",
    "        \n",
    "        seen_numbers.add(num)\n",
    "        digits = [int(digit) for digit in str(num)]\n",
    "        num = sum([digit**2 for digit in digits])\n",
    "\n",
    "    return True\n",
    "\n",
    "\n",
    "print(\"Happy numbers between 1 and 100:\")\n",
    "for number in range(1, 101):\n",
    "    if is_happy_number(number):\n",
    "        print(number)\n"
   ]
  },
  {
   "cell_type": "markdown",
   "id": "2507e959",
   "metadata": {},
   "source": [
    "### 5. Write a Python program to determine whether the given number is a Harshad Number?"
   ]
  },
  {
   "cell_type": "code",
   "execution_count": 6,
   "id": "e8d24c45",
   "metadata": {},
   "outputs": [
    {
     "name": "stdout",
     "output_type": "stream",
     "text": [
      "Enter a number: 82\n",
      "82 is not a Harshad number.\n"
     ]
    }
   ],
   "source": [
    "def is_harshad_number(num):\n",
    "    # Calculate the sum of the digits\n",
    "    sum_digits = sum(int(digit) for digit in str(num))\n",
    "\n",
    "    # Check if the number is divisible by the sum of its digits\n",
    "    if num % sum_digits == 0:\n",
    "        return True\n",
    "    else:\n",
    "        return False\n",
    "\n",
    "\n",
    "# Test the function with a number\n",
    "number = int(input(\"Enter a number: \"))\n",
    "if is_harshad_number(number):\n",
    "    print(number, \"is a Harshad number.\")\n",
    "else:\n",
    "    print(number, \"is not a Harshad number.\")\n"
   ]
  },
  {
   "cell_type": "markdown",
   "id": "42b7d0c0",
   "metadata": {},
   "source": [
    "### 6. Write a Python program to print all pronic numbers between 1 and 100?"
   ]
  },
  {
   "cell_type": "code",
   "execution_count": 7,
   "id": "d7c56db1",
   "metadata": {},
   "outputs": [
    {
     "name": "stdout",
     "output_type": "stream",
     "text": [
      "Pronic numbers between 1 and 100:\n",
      "2\n",
      "6\n",
      "12\n",
      "20\n",
      "30\n",
      "42\n",
      "56\n",
      "72\n",
      "90\n"
     ]
    }
   ],
   "source": [
    "def is_pronic_number(num):\n",
    "    for i in range(1, num+1):\n",
    "        # Check if i * (i+1) equals the given number\n",
    "        if i * (i+1) == num:\n",
    "            return True\n",
    "    return False\n",
    "\n",
    "\n",
    "print(\"Pronic numbers between 1 and 100:\")\n",
    "for number in range(1, 101):\n",
    "    if is_pronic_number(number):\n",
    "        print(number)\n"
   ]
  },
  {
   "cell_type": "code",
   "execution_count": null,
   "id": "aa3944cb",
   "metadata": {},
   "outputs": [],
   "source": []
  }
 ],
 "metadata": {
  "kernelspec": {
   "display_name": "Python 3 (ipykernel)",
   "language": "python",
   "name": "python3"
  },
  "language_info": {
   "codemirror_mode": {
    "name": "ipython",
    "version": 3
   },
   "file_extension": ".py",
   "mimetype": "text/x-python",
   "name": "python",
   "nbconvert_exporter": "python",
   "pygments_lexer": "ipython3",
   "version": "3.10.9"
  }
 },
 "nbformat": 4,
 "nbformat_minor": 5
}
