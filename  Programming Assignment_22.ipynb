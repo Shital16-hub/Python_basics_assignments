{
 "cells": [
  {
   "cell_type": "markdown",
   "id": "7eb9e56c",
   "metadata": {},
   "source": [
    "Question1\n",
    "Create a function that takes three parameters where:\n",
    " x is the start of the range (inclusive).\n",
    " y is the end of the range (inclusive).\n",
    " n is the divisor to be checked against.\n",
    "Return an ordered list with numbers in the range that are divisible by the third parameter n.\n",
    "Return an empty list if there are no numbers that are divisible by n.\n",
    "\n",
    "Examples\n",
    "\n",
    "list_operation(1, 10, 3) ➞ [3, 6, 9]\n",
    "\n",
    "list_operation(7, 9, 2) ➞ [8]\n",
    "\n",
    "list_operation(15, 20, 7) ➞ []"
   ]
  },
  {
   "cell_type": "code",
   "execution_count": 1,
   "id": "955a72e5",
   "metadata": {},
   "outputs": [
    {
     "name": "stdout",
     "output_type": "stream",
     "text": [
      "[3, 6, 9]\n",
      "[8]\n",
      "[]\n"
     ]
    }
   ],
   "source": [
    "def list_operation(x, y, n):\n",
    "    result = []\n",
    "    for num in range(x, y + 1):\n",
    "        if num % n == 0:\n",
    "            result.append(num)\n",
    "    return result\n",
    "\n",
    "# Test cases\n",
    "print(list_operation(1, 10, 3))  # Output: [3, 6, 9]\n",
    "print(list_operation(7, 9, 2))   # Output: [8]\n",
    "print(list_operation(15, 20, 7)) # Output: []\n"
   ]
  },
  {
   "cell_type": "markdown",
   "id": "ba1f9fa5",
   "metadata": {},
   "source": [
    "Question2\n",
    "Create a function that takes in two lists and returns True if the second list follows the first list\n",
    "by one element, and False otherwise. In other words, determine if the second list is the first\n",
    "list shifted to the right by 1.\n",
    "Examples\n",
    "\n",
    "simon_says([1, 2], [5, 1]) ➞ True\n",
    "\n",
    "simon_says([1, 2], [5, 5]) ➞ False\n",
    "\n",
    "simon_says([1, 2, 3, 4, 5], [0, 1, 2, 3, 4]) ➞ True\n",
    "\n",
    "simon_says([1, 2, 3, 4, 5], [5, 5, 1, 2, 3]) ➞ False"
   ]
  },
  {
   "cell_type": "code",
   "execution_count": 3,
   "id": "6a5b0ccf",
   "metadata": {},
   "outputs": [
    {
     "name": "stdout",
     "output_type": "stream",
     "text": [
      "True\n",
      "False\n",
      "True\n",
      "False\n"
     ]
    }
   ],
   "source": [
    "def simon_says(list1, list2):\n",
    "    # Check if the second list is a rotation of the first list by one element\n",
    "    return list2[1:] == list1[:-1]\n",
    "\n",
    "# Test cases\n",
    "print(simon_says([1, 2], [5, 1]))                    # Output: True\n",
    "print(simon_says([1, 2], [5, 5]))                    # Output: False\n",
    "print(simon_says([1, 2, 3, 4, 5], [0, 1, 2, 3, 4]))  # Output: True\n",
    "print(simon_says([1, 2, 3, 4, 5], [5, 5, 1, 2, 3]))  # Output: False\n"
   ]
  },
  {
   "cell_type": "markdown",
   "id": "09bc8e13",
   "metadata": {},
   "source": [
    "Question3\n",
    "A group of friends have decided to start a secret society. The name will be the first letter of\n",
    "each of their names, sorted in alphabetical order.\n",
    "Create a function that takes in a list of names and returns the name of the secret society.\n",
    "Examples\n",
    "society_name([&quot;Adam&quot;, &quot;Sarah&quot;, &quot;Malcolm&quot;]) ➞ &quot;AMS&quot;\n",
    "society_name([&quot;Harry&quot;, &quot;Newt&quot;, &quot;Luna&quot;, &quot;Cho&quot;]) ➞ &quot;CHLN&quot;\n",
    "society_name([&quot;Phoebe&quot;, &quot;Chandler&quot;, &quot;Rachel&quot;, &quot;Ross&quot;, &quot;Monica&quot;, &quot;Joey&quot;])"
   ]
  },
  {
   "cell_type": "code",
   "execution_count": 4,
   "id": "39103830",
   "metadata": {},
   "outputs": [
    {
     "name": "stdout",
     "output_type": "stream",
     "text": [
      "AMS\n",
      "CHLN\n",
      "CJMPRR\n"
     ]
    }
   ],
   "source": [
    "def society_name(names):\n",
    "    # Extract the first letter from each name and sort them\n",
    "    initials = sorted([name[0] for name in names])\n",
    "    # Join the sorted initials to create the society name\n",
    "    return ''.join(initials)\n",
    "\n",
    "# Test cases\n",
    "print(society_name([\"Adam\", \"Sarah\", \"Malcolm\"]))                         # Output: \"AMS\"\n",
    "print(society_name([\"Harry\", \"Newt\", \"Luna\", \"Cho\"]))                     # Output: \"CHLN\"\n",
    "print(society_name([\"Phoebe\", \"Chandler\", \"Rachel\", \"Ross\", \"Monica\", \"Joey\"]))  # Output: \"CJMPRR\"\n"
   ]
  },
  {
   "cell_type": "markdown",
   "id": "6f336eea",
   "metadata": {},
   "source": [
    "Question4\n",
    "An isogram is a word that has no duplicate letters. Create a function that takes a string and\n",
    "returns either True or False depending on whether or not it&#39;s an &quot;isogram&quot;.\n",
    "Examples\n",
    "is_isogram(&quot;Algorism&quot;) ➞ True\n",
    "is_isogram(&quot;PasSword&quot;) ➞ False\n",
    " Not case sensitive.\n",
    "is_isogram(&quot;Consecutive&quot;) ➞ False\n",
    "Notes\n",
    " Ignore letter case (should not be case sensitive).\n",
    " All test cases contain valid one word strings."
   ]
  },
  {
   "cell_type": "code",
   "execution_count": 5,
   "id": "4d74b16e",
   "metadata": {},
   "outputs": [
    {
     "name": "stdout",
     "output_type": "stream",
     "text": [
      "True\n",
      "False\n",
      "False\n"
     ]
    }
   ],
   "source": [
    "def is_isogram(s):\n",
    "    # Convert the string to lowercase to make it case-insensitive\n",
    "    s = s.lower()\n",
    "    \n",
    "    # Use a set to keep track of seen letters\n",
    "    seen = set()\n",
    "    \n",
    "    # Iterate through the characters in the string\n",
    "    for char in s:\n",
    "        # If the character is already in the set, it's a duplicate\n",
    "        if char in seen:\n",
    "            return False\n",
    "        # Otherwise, add the character to the set\n",
    "        seen.add(char)\n",
    "    \n",
    "    # If all characters are unique, it's an isogram\n",
    "    return True\n",
    "\n",
    "# Test cases\n",
    "print(is_isogram(\"Algorism\"))     # Output: True\n",
    "print(is_isogram(\"PasSword\"))     # Output: False\n",
    "print(is_isogram(\"Consecutive\"))  # Output: False\n"
   ]
  },
  {
   "cell_type": "markdown",
   "id": "46a15b7f",
   "metadata": {},
   "source": [
    "Question5\n",
    "Create a function that takes a string and returns True or False, depending on whether the\n",
    "characters are in order or not.\n",
    "Examples\n",
    "is_in_order(&quot;abc&quot;) ➞ True\n",
    "is_in_order(&quot;edabit&quot;) ➞ False\n",
    "is_in_order(&quot;123&quot;) ➞ True\n",
    "is_in_order(&quot;xyzz&quot;) ➞ True\n",
    "Notes\n",
    "You don&#39;t have to handle empty strings."
   ]
  },
  {
   "cell_type": "code",
   "execution_count": 6,
   "id": "46a3c1f0",
   "metadata": {},
   "outputs": [
    {
     "name": "stdout",
     "output_type": "stream",
     "text": [
      "True\n",
      "False\n",
      "True\n",
      "True\n"
     ]
    }
   ],
   "source": [
    "def is_in_order(s):\n",
    "    # Convert the string to a list of characters\n",
    "    chars = list(s)\n",
    "    \n",
    "    # Sort the list of characters\n",
    "    sorted_chars = sorted(chars)\n",
    "    \n",
    "    # Compare the original list with the sorted list\n",
    "    return chars == sorted_chars\n",
    "\n",
    "# Test cases\n",
    "print(is_in_order(\"abc\"))      # Output: True\n",
    "print(is_in_order(\"edabit\"))   # Output: False\n",
    "print(is_in_order(\"123\"))      # Output: True\n",
    "print(is_in_order(\"xyzz\"))     # Output: True\n"
   ]
  },
  {
   "cell_type": "code",
   "execution_count": null,
   "id": "b914bb94",
   "metadata": {},
   "outputs": [],
   "source": []
  }
 ],
 "metadata": {
  "kernelspec": {
   "display_name": "Python 3 (ipykernel)",
   "language": "python",
   "name": "python3"
  },
  "language_info": {
   "codemirror_mode": {
    "name": "ipython",
    "version": 3
   },
   "file_extension": ".py",
   "mimetype": "text/x-python",
   "name": "python",
   "nbconvert_exporter": "python",
   "pygments_lexer": "ipython3",
   "version": "3.10.9"
  }
 },
 "nbformat": 4,
 "nbformat_minor": 5
}
