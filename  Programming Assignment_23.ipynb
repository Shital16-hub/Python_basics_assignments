{
 "cells": [
  {
   "cell_type": "markdown",
   "id": "ccc13fde",
   "metadata": {},
   "source": [
    "Question 1\n",
    "Create a function that takes a number as an argument and returns True or False depending\n",
    "on whether the number is symmetrical or not. A number is symmetrical when it is the same as\n",
    "its reverse.\n",
    "\n",
    "Examples\n",
    "\n",
    "is_symmetrical(7227) ➞ True\n",
    "\n",
    "is_symmetrical(12567) ➞ False\n",
    "\n",
    "is_symmetrical(44444444) ➞ True\n",
    "\n",
    "is_symmetrical(9939) ➞ False\n",
    "\n",
    "is_symmetrical(1112111) ➞ True"
   ]
  },
  {
   "cell_type": "code",
   "execution_count": 1,
   "id": "b0693433",
   "metadata": {},
   "outputs": [
    {
     "name": "stdout",
     "output_type": "stream",
     "text": [
      "True\n",
      "False\n",
      "True\n",
      "False\n",
      "True\n"
     ]
    }
   ],
   "source": [
    "def is_symmetrical(number):\n",
    "    # Convert the number to a string\n",
    "    num_str = str(number)\n",
    "    \n",
    "    # Compare the string with its reverse\n",
    "    return num_str == num_str[::-1]\n",
    "\n",
    "# Test cases\n",
    "print(is_symmetrical(7227))     # True\n",
    "print(is_symmetrical(12567))    # False\n",
    "print(is_symmetrical(44444444)) # True\n",
    "print(is_symmetrical(9939))     # False\n",
    "print(is_symmetrical(1112111))  # True\n"
   ]
  },
  {
   "cell_type": "markdown",
   "id": "842ed2db",
   "metadata": {},
   "source": [
    "Question 2\n",
    "Given a string of numbers separated by a comma and space, return the product of the\n",
    "numbers.\n",
    "Examples\n",
    "multiply_nums(&quot;2, 3&quot;) ➞ 6\n",
    "multiply_nums(&quot;1, 2, 3, 4&quot;) ➞ 24\n",
    "multiply_nums(&quot;54, 75, 453, 0&quot;) ➞ 0\n",
    "multiply_nums(&quot;10, -2&quot;) ➞ -20"
   ]
  },
  {
   "cell_type": "code",
   "execution_count": 2,
   "id": "d2f3e73c",
   "metadata": {},
   "outputs": [
    {
     "name": "stdout",
     "output_type": "stream",
     "text": [
      "6\n",
      "24\n",
      "0\n",
      "-20\n"
     ]
    }
   ],
   "source": [
    "def multiply_nums(numbers_str):\n",
    "    # Split the input string into a list of strings\n",
    "    num_list = numbers_str.split(', ')\n",
    "    \n",
    "    # Convert the strings to integers and calculate the product\n",
    "    product = 1\n",
    "    for num in num_list:\n",
    "        product *= int(num)\n",
    "    \n",
    "    return product\n",
    "\n",
    "# Test cases\n",
    "print(multiply_nums(\"2, 3\"))             # 6\n",
    "print(multiply_nums(\"1, 2, 3, 4\"))       # 24\n",
    "print(multiply_nums(\"54, 75, 453, 0\"))  # 0\n",
    "print(multiply_nums(\"10, -2\"))           # -20\n"
   ]
  },
  {
   "cell_type": "markdown",
   "id": "49c656d3",
   "metadata": {},
   "source": [
    "Question 3\n",
    "Create a function that squares every digit of a number.\n",
    "Examples\n",
    "square_digits(9119) ➞ 811181\n",
    "square_digits(2483) ➞ 416649\n",
    "square_digits(3212) ➞ 9414\n",
    "Notes\n",
    "The function receives an integer and must return an integer."
   ]
  },
  {
   "cell_type": "code",
   "execution_count": 3,
   "id": "191d1fe0",
   "metadata": {},
   "outputs": [
    {
     "name": "stdout",
     "output_type": "stream",
     "text": [
      "811181\n",
      "416649\n",
      "9414\n"
     ]
    }
   ],
   "source": [
    "def square_digits(number):\n",
    "    # Convert the number to a string\n",
    "    num_str = str(number)\n",
    "    \n",
    "    # Initialize an empty string to store squared digits\n",
    "    squared_str = ''\n",
    "    \n",
    "    # Iterate through each digit in the string and square it\n",
    "    for digit in num_str:\n",
    "        squared_digit = int(digit) ** 2\n",
    "        squared_str += str(squared_digit)\n",
    "    \n",
    "    # Convert the squared string back to an integer and return\n",
    "    return int(squared_str)\n",
    "\n",
    "# Test cases\n",
    "print(square_digits(9119))  # 811181\n",
    "print(square_digits(2483))  # 416649\n",
    "print(square_digits(3212))  # 9414\n"
   ]
  },
  {
   "cell_type": "markdown",
   "id": "a149f3ad",
   "metadata": {},
   "source": [
    "Question 4\n",
    "Create a function that sorts a list and removes all duplicate items from it.\n",
    "Examples\n",
    "setify([1, 3, 3, 5, 5]) ➞ [1, 3, 5]\n",
    "setify([4, 4, 4, 4]) ➞ [4]\n",
    "setify([5, 7, 8, 9, 10, 15]) ➞ [5, 7, 8, 9, 10, 15]\n",
    "setify([3, 3, 3, 2, 1]) ➞ [1, 2, 3]"
   ]
  },
  {
   "cell_type": "code",
   "execution_count": 4,
   "id": "aaaecc3c",
   "metadata": {},
   "outputs": [
    {
     "name": "stdout",
     "output_type": "stream",
     "text": [
      "[1, 3, 5]\n",
      "[4]\n",
      "[5, 7, 8, 9, 10, 15]\n",
      "[1, 2, 3]\n"
     ]
    }
   ],
   "source": [
    "def setify(input_list):\n",
    "    # Sort the list and convert it to a set to remove duplicates\n",
    "    sorted_set = sorted(set(input_list))\n",
    "    \n",
    "    # Convert the set back to a list and return\n",
    "    return list(sorted_set)\n",
    "\n",
    "# Test cases\n",
    "print(setify([1, 3, 3, 5, 5]))               # [1, 3, 5]\n",
    "print(setify([4, 4, 4, 4]))                  # [4]\n",
    "print(setify([5, 7, 8, 9, 10, 15]))          # [5, 7, 8, 9, 10, 15]\n",
    "print(setify([3, 3, 3, 2, 1]))               # [1, 2, 3]\n"
   ]
  },
  {
   "cell_type": "markdown",
   "id": "c1688389",
   "metadata": {},
   "source": [
    "Question 5\n",
    "Create a function that returns the mean of all digits.\n",
    "Examples\n",
    "mean(42) ➞ 3\n",
    "mean(12345) ➞ 3\n",
    "mean(666) ➞ 6\n",
    "Notes\n",
    " The mean of all digits is the sum of digits / how many digits there are (e.g. mean of digits in\n",
    "512 is (5+1+2)/3(number of digits) = 8/3=2).\n",
    " The mean will always be an integer."
   ]
  },
  {
   "cell_type": "code",
   "execution_count": 6,
   "id": "849f6da0",
   "metadata": {},
   "outputs": [
    {
     "name": "stdout",
     "output_type": "stream",
     "text": [
      "3\n",
      "3\n",
      "6\n"
     ]
    }
   ],
   "source": [
    "def mean(number):\n",
    "    # Convert the number to a string to extract its digits\n",
    "    num_str = str(number)\n",
    "    \n",
    "    # Calculate the sum of digits and the number of digits\n",
    "    digit_sum = sum(int(digit) for digit in num_str)\n",
    "    num_digits = len(num_str)\n",
    "    \n",
    "    # Calculate and return the mean\n",
    "    mean_value = digit_sum // num_digits\n",
    "    return mean_value\n",
    "\n",
    "# Test cases\n",
    "print(mean(42))       # 3\n",
    "print(mean(12345))    # 3\n",
    "print(mean(666))      # 6\n"
   ]
  },
  {
   "cell_type": "code",
   "execution_count": null,
   "id": "b792d7a2",
   "metadata": {},
   "outputs": [],
   "source": []
  }
 ],
 "metadata": {
  "kernelspec": {
   "display_name": "Python 3 (ipykernel)",
   "language": "python",
   "name": "python3"
  },
  "language_info": {
   "codemirror_mode": {
    "name": "ipython",
    "version": 3
   },
   "file_extension": ".py",
   "mimetype": "text/x-python",
   "name": "python",
   "nbconvert_exporter": "python",
   "pygments_lexer": "ipython3",
   "version": "3.10.9"
  }
 },
 "nbformat": 4,
 "nbformat_minor": 5
}
