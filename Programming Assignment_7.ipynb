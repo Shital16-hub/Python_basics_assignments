{
 "cells": [
  {
   "cell_type": "markdown",
   "id": "ebbc1779",
   "metadata": {},
   "source": [
    "### 1. Write a Python Program to find sum of array?"
   ]
  },
  {
   "cell_type": "code",
   "execution_count": 1,
   "id": "05c9787f",
   "metadata": {},
   "outputs": [
    {
     "name": "stdout",
     "output_type": "stream",
     "text": [
      "Sum of the array: 15\n"
     ]
    }
   ],
   "source": [
    "def find_array_sum(arr):\n",
    "    array_sum = sum(arr)\n",
    "    return array_sum\n",
    "\n",
    "# Example usage\n",
    "array = [1, 2, 3, 4, 5]\n",
    "result = find_array_sum(array)\n",
    "print(\"Sum of the array:\", result)\n"
   ]
  },
  {
   "cell_type": "markdown",
   "id": "c2ae7d23",
   "metadata": {},
   "source": [
    "### 2. Write a Python Program to find largest element in an array?"
   ]
  },
  {
   "cell_type": "code",
   "execution_count": 2,
   "id": "8ae84233",
   "metadata": {},
   "outputs": [
    {
     "name": "stdout",
     "output_type": "stream",
     "text": [
      "Largest element in the array: 91\n"
     ]
    }
   ],
   "source": [
    "def find_largest_element(arr):\n",
    "    largest_element = max(arr)\n",
    "    return largest_element\n",
    "\n",
    "# Example usage\n",
    "array = [12, 45, 78, 34, 91]\n",
    "result = find_largest_element(array)\n",
    "print(\"Largest element in the array:\", result)\n"
   ]
  },
  {
   "cell_type": "markdown",
   "id": "52a30cbe",
   "metadata": {},
   "source": [
    "### 3. Write a Python Program for array rotation?"
   ]
  },
  {
   "cell_type": "code",
   "execution_count": 3,
   "id": "8b7af185",
   "metadata": {},
   "outputs": [
    {
     "name": "stdout",
     "output_type": "stream",
     "text": [
      "Rotated array: [3, 4, 5, 1, 2]\n"
     ]
    }
   ],
   "source": [
    "def rotate_array(arr, k):\n",
    "    n = len(arr)\n",
    "    # Calculate the effective rotation amount\n",
    "    k = k % n\n",
    "    # Rotate the array using slicing\n",
    "    rotated_arr = arr[k:] + arr[:k]\n",
    "    return rotated_arr\n",
    "\n",
    "# Example usage\n",
    "array = [1, 2, 3, 4, 5]\n",
    "rotation_amount = 2\n",
    "result = rotate_array(array, rotation_amount)\n",
    "print(\"Rotated array:\", result)\n"
   ]
  },
  {
   "cell_type": "markdown",
   "id": "e99134b0",
   "metadata": {},
   "source": [
    "### 4. Write a Python Program to Split the array and add the first part to the end?"
   ]
  },
  {
   "cell_type": "code",
   "execution_count": 4,
   "id": "5bebf67d",
   "metadata": {},
   "outputs": [
    {
     "name": "stdout",
     "output_type": "stream",
     "text": [
      "Resulting array: [3, 4, 5, 1, 2]\n"
     ]
    }
   ],
   "source": [
    "def split_and_add(arr, split_index):\n",
    "    first_part = arr[:split_index]\n",
    "    second_part = arr[split_index:]\n",
    "    # Add the first part to the end of the second part\n",
    "    rotated_arr = second_part + first_part\n",
    "    return rotated_arr\n",
    "\n",
    "# Example usage\n",
    "array = [1, 2, 3, 4, 5]\n",
    "split_index = 2\n",
    "result = split_and_add(array, split_index)\n",
    "print(\"Resulting array:\", result)\n"
   ]
  },
  {
   "cell_type": "markdown",
   "id": "d7f035e2",
   "metadata": {},
   "source": [
    "### 5. Write a Python Program to check if given array is Monotonic?"
   ]
  },
  {
   "cell_type": "code",
   "execution_count": 5,
   "id": "bf5cdca6",
   "metadata": {},
   "outputs": [
    {
     "name": "stdout",
     "output_type": "stream",
     "text": [
      "Array1 is monotonic: True\n",
      "Array2 is monotonic: True\n",
      "Array3 is monotonic: False\n"
     ]
    }
   ],
   "source": [
    "def is_monotonic(arr):\n",
    "    increasing = decreasing = True\n",
    "\n",
    "    # Check if the array is non-increasing\n",
    "    for i in range(1, len(arr)):\n",
    "        if arr[i] > arr[i-1]:\n",
    "            increasing = False\n",
    "            break\n",
    "\n",
    "    # Check if the array is non-decreasing\n",
    "    for i in range(1, len(arr)):\n",
    "        if arr[i] < arr[i-1]:\n",
    "            decreasing = False\n",
    "            break\n",
    "\n",
    "    # The array is monotonic if it is either non-increasing or non-decreasing\n",
    "    return increasing or decreasing\n",
    "\n",
    "# Example usage\n",
    "array1 = [1, 2, 3, 4, 5]         # Monotonic (non-decreasing)\n",
    "array2 = [5, 4, 3, 2, 1]         # Monotonic (non-increasing)\n",
    "array3 = [1, 3, 2, 5, 4]         # Not monotonic\n",
    "\n",
    "print(\"Array1 is monotonic:\", is_monotonic(array1))\n",
    "print(\"Array2 is monotonic:\", is_monotonic(array2))\n",
    "print(\"Array3 is monotonic:\", is_monotonic(array3))\n"
   ]
  },
  {
   "cell_type": "code",
   "execution_count": null,
   "id": "54c479d4",
   "metadata": {},
   "outputs": [],
   "source": []
  }
 ],
 "metadata": {
  "kernelspec": {
   "display_name": "Python 3 (ipykernel)",
   "language": "python",
   "name": "python3"
  },
  "language_info": {
   "codemirror_mode": {
    "name": "ipython",
    "version": 3
   },
   "file_extension": ".py",
   "mimetype": "text/x-python",
   "name": "python",
   "nbconvert_exporter": "python",
   "pygments_lexer": "ipython3",
   "version": "3.10.9"
  }
 },
 "nbformat": 4,
 "nbformat_minor": 5
}
