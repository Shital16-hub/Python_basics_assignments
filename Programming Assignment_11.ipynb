{
 "cells": [
  {
   "cell_type": "markdown",
   "id": "c7e174f9",
   "metadata": {},
   "source": [
    "### 1. Write a Python program to find words which are greater than given length k?"
   ]
  },
  {
   "cell_type": "code",
   "execution_count": 1,
   "id": "dda955f2",
   "metadata": {},
   "outputs": [
    {
     "name": "stdout",
     "output_type": "stream",
     "text": [
      "['quick', 'brown', 'jumps']\n"
     ]
    }
   ],
   "source": [
    "def find_words_greater_than(sentence, k):\n",
    "    words = sentence.split()\n",
    "    result = []\n",
    "    \n",
    "    for word in words:\n",
    "        if len(word) > k:\n",
    "            result.append(word)\n",
    "    \n",
    "    return result\n",
    "\n",
    "# Example usage\n",
    "input_sentence = \"The quick brown fox jumps over the lazy dog\"\n",
    "length_threshold = 4\n",
    "words_greater_than_threshold = find_words_greater_than(input_sentence, length_threshold)\n",
    "print(words_greater_than_threshold)\n"
   ]
  },
  {
   "cell_type": "markdown",
   "id": "a4254d7a",
   "metadata": {},
   "source": [
    "### 2. Write a Python program for removing i-th character from a string?"
   ]
  },
  {
   "cell_type": "code",
   "execution_count": 2,
   "id": "0749b895",
   "metadata": {},
   "outputs": [
    {
     "name": "stdout",
     "output_type": "stream",
     "text": [
      "Hello, orld!\n"
     ]
    }
   ],
   "source": [
    "def remove_ith_character(string, i):\n",
    "    if i < 0 or i >= len(string):\n",
    "        return string\n",
    "    \n",
    "    return string[:i] + string[i+1:]\n",
    "\n",
    "# Example usage\n",
    "input_string = \"Hello, World!\"\n",
    "index_to_remove = 7\n",
    "modified_string = remove_ith_character(input_string, index_to_remove)\n",
    "print(modified_string)\n"
   ]
  },
  {
   "cell_type": "markdown",
   "id": "f7b87f7d",
   "metadata": {},
   "source": [
    "### 3. Write a Python program to split and join a string?"
   ]
  },
  {
   "cell_type": "code",
   "execution_count": 3,
   "id": "494fdebe",
   "metadata": {},
   "outputs": [
    {
     "name": "stdout",
     "output_type": "stream",
     "text": [
      "Hello  World! How are you?\n"
     ]
    }
   ],
   "source": [
    "def split_and_join(string, delimiter):\n",
    "    # Split the string into a list of substrings using the specified delimiter\n",
    "    words = string.split(delimiter)\n",
    "    \n",
    "    # Join the list of substrings into a single string using a space as the separator\n",
    "    joined_string = ' '.join(words)\n",
    "    \n",
    "    return joined_string\n",
    "\n",
    "# Example usage\n",
    "input_string = \"Hello, World! How are you?\"\n",
    "delimiter = ','\n",
    "joined_string = split_and_join(input_string, delimiter)\n",
    "print(joined_string)\n"
   ]
  },
  {
   "cell_type": "markdown",
   "id": "527fe99d",
   "metadata": {},
   "source": [
    "### 4. Write a Python to check if a given string is binary string or not?"
   ]
  },
  {
   "cell_type": "code",
   "execution_count": 4,
   "id": "cca81dc8",
   "metadata": {},
   "outputs": [
    {
     "name": "stdout",
     "output_type": "stream",
     "text": [
      "True\n"
     ]
    }
   ],
   "source": [
    "def is_binary_string(string):\n",
    "    for char in string:\n",
    "        if char != '0' and char != '1':\n",
    "            return False\n",
    "    return True\n",
    "\n",
    "# Example usage\n",
    "input_string = \"101010\"\n",
    "is_binary = is_binary_string(input_string)\n",
    "print(is_binary)\n"
   ]
  },
  {
   "cell_type": "markdown",
   "id": "e768ccb8",
   "metadata": {},
   "source": [
    "### 5. Write a Python program to find uncommon words from two Strings?"
   ]
  },
  {
   "cell_type": "code",
   "execution_count": 5,
   "id": "e8fd249e",
   "metadata": {},
   "outputs": [
    {
     "name": "stdout",
     "output_type": "stream",
     "text": [
      "{'how', 'I', 'am', 'fine,', 'Hello,', 'thank', 'you!', 'you?', 'are'}\n"
     ]
    }
   ],
   "source": [
    "def find_uncommon_words(string1, string2):\n",
    "    # Split the strings into lists of words\n",
    "    words1 = string1.split()\n",
    "    words2 = string2.split()\n",
    "    \n",
    "    # Create sets of unique words from each string\n",
    "    set1 = set(words1)\n",
    "    set2 = set(words2)\n",
    "    \n",
    "    # Find the uncommon words by taking the symmetric difference of the two sets\n",
    "    uncommon_words = set1.symmetric_difference(set2)\n",
    "    \n",
    "    return uncommon_words\n",
    "\n",
    "# Example usage\n",
    "string1 = \"Hello, how are you?\"\n",
    "string2 = \"I am fine, thank you!\"\n",
    "uncommon_words = find_uncommon_words(string1, string2)\n",
    "print(uncommon_words)\n"
   ]
  },
  {
   "cell_type": "markdown",
   "id": "b80f62c7",
   "metadata": {},
   "source": [
    "### 6. Write a Python to find all duplicate characters in string?"
   ]
  },
  {
   "cell_type": "code",
   "execution_count": 6,
   "id": "9543f47d",
   "metadata": {},
   "outputs": [
    {
     "name": "stdout",
     "output_type": "stream",
     "text": [
      "['l', 'o']\n"
     ]
    }
   ],
   "source": [
    "def find_duplicate_characters(string):\n",
    "    # Create an empty list to store the duplicate characters\n",
    "    duplicates = []\n",
    "    \n",
    "    # Create a set to keep track of seen characters\n",
    "    seen = set()\n",
    "    \n",
    "    # Iterate through each character in the string\n",
    "    for char in string:\n",
    "        # If the character is already in the seen set and not in the duplicates list, it's a duplicate\n",
    "        if char in seen and char not in duplicates:\n",
    "            duplicates.append(char)\n",
    "        else:\n",
    "            seen.add(char)\n",
    "    \n",
    "    return duplicates\n",
    "\n",
    "# Example usage\n",
    "input_string = \"Hello, World!\"\n",
    "duplicate_characters = find_duplicate_characters(input_string)\n",
    "print(duplicate_characters)\n"
   ]
  },
  {
   "cell_type": "code",
   "execution_count": null,
   "id": "c1217579",
   "metadata": {},
   "outputs": [],
   "source": []
  }
 ],
 "metadata": {
  "kernelspec": {
   "display_name": "Python 3 (ipykernel)",
   "language": "python",
   "name": "python3"
  },
  "language_info": {
   "codemirror_mode": {
    "name": "ipython",
    "version": 3
   },
   "file_extension": ".py",
   "mimetype": "text/x-python",
   "name": "python",
   "nbconvert_exporter": "python",
   "pygments_lexer": "ipython3",
   "version": "3.10.9"
  }
 },
 "nbformat": 4,
 "nbformat_minor": 5
}
