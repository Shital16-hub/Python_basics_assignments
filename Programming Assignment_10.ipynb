{
 "cells": [
  {
   "cell_type": "markdown",
   "id": "a975ab4a",
   "metadata": {},
   "source": [
    "### 1. Write a Python program to find sum of elements in list?"
   ]
  },
  {
   "cell_type": "code",
   "execution_count": 2,
   "id": "e5fbd51d",
   "metadata": {},
   "outputs": [
    {
     "name": "stdout",
     "output_type": "stream",
     "text": [
      "Sum of elements: 15\n"
     ]
    }
   ],
   "source": [
    "def sum_of_elements(lst):\n",
    "    sum = 0\n",
    "    for num in lst:\n",
    "        sum = sum + num\n",
    "    return sum\n",
    "\n",
    "# Test the function with a list of numbers\n",
    "numbers = [1, 2, 3, 4, 5]\n",
    "result = sum_of_elements(numbers)\n",
    "print(\"Sum of elements:\", result)\n"
   ]
  },
  {
   "cell_type": "markdown",
   "id": "6233ab3b",
   "metadata": {},
   "source": [
    "### 2. Write a Python program to Multiply all numbers in the list?"
   ]
  },
  {
   "cell_type": "code",
   "execution_count": 3,
   "id": "39683f98",
   "metadata": {},
   "outputs": [
    {
     "name": "stdout",
     "output_type": "stream",
     "text": [
      "Product of numbers: 120\n"
     ]
    }
   ],
   "source": [
    "def multiply_numbers(lst):\n",
    "    result = 1\n",
    "    for num in lst:\n",
    "        result *= num\n",
    "    return result\n",
    "\n",
    "# Test the function with a list of numbers\n",
    "numbers = [2, 3, 4, 5]\n",
    "result = multiply_numbers(numbers)\n",
    "print(\"Product of numbers:\", result)\n"
   ]
  },
  {
   "cell_type": "markdown",
   "id": "a61d832a",
   "metadata": {},
   "source": [
    "### 3.Write a Python program to find smallest number in a list?"
   ]
  },
  {
   "cell_type": "code",
   "execution_count": 4,
   "id": "73019e0d",
   "metadata": {},
   "outputs": [
    {
     "name": "stdout",
     "output_type": "stream",
     "text": [
      "Smallest number: 1\n"
     ]
    }
   ],
   "source": [
    "def find_smallest_number(lst):\n",
    "    if len(lst) == 0:\n",
    "        print(\"List is empty.\")\n",
    "        return None\n",
    "\n",
    "    smallest = lst[0]\n",
    "    for num in lst:\n",
    "        if num < smallest:\n",
    "            smallest = num\n",
    "    return smallest\n",
    "\n",
    "# Test the function with a list of numbers\n",
    "numbers = [5, 3, 9, 1, 7]\n",
    "result = find_smallest_number(numbers)\n",
    "print(\"Smallest number:\", result)\n"
   ]
  },
  {
   "cell_type": "markdown",
   "id": "76299766",
   "metadata": {},
   "source": [
    "### 4. Write a Python program to find largest number in a list?"
   ]
  },
  {
   "cell_type": "code",
   "execution_count": 5,
   "id": "c73258af",
   "metadata": {},
   "outputs": [
    {
     "name": "stdout",
     "output_type": "stream",
     "text": [
      "Largest number: 9\n"
     ]
    }
   ],
   "source": [
    "def find_largest_number(lst):\n",
    "    if len(lst) == 0:\n",
    "        print(\"List is empty.\")\n",
    "        return None\n",
    "\n",
    "    largest = lst[0]\n",
    "    for num in lst:\n",
    "        if num > largest:\n",
    "            largest = num\n",
    "    return largest\n",
    "\n",
    "# Test the function with a list of numbers\n",
    "numbers = [5, 3, 9, 1, 7]\n",
    "result = find_largest_number(numbers)\n",
    "print(\"Largest number:\", result)\n"
   ]
  },
  {
   "cell_type": "markdown",
   "id": "0d75db2a",
   "metadata": {},
   "source": [
    "### 5. Write a Python program to find second largest number in a list?"
   ]
  },
  {
   "cell_type": "code",
   "execution_count": 9,
   "id": "07c7638c",
   "metadata": {},
   "outputs": [
    {
     "name": "stdout",
     "output_type": "stream",
     "text": [
      "Second largest number: 7\n"
     ]
    }
   ],
   "source": [
    "def find_second_largest_number(lst):\n",
    "    if len(lst) < 2:\n",
    "        print(\"List does not have enough elements.\")\n",
    "        return None\n",
    "\n",
    "    largest = max(lst[0], lst[1])\n",
    "    second_largest = min(lst[0], lst[1])\n",
    "\n",
    "    for num in lst[2:]:\n",
    "        if num > largest:\n",
    "            second_largest = largest\n",
    "            largest = num\n",
    "        elif num > second_largest:\n",
    "            second_largest = num\n",
    "\n",
    "    return second_largest\n",
    "\n",
    "# Test the function with a list of numbers\n",
    "numbers = [5, 3, 9, 1, 7]\n",
    "result = find_second_largest_number(numbers)\n",
    "print(\"Second largest number:\", result)\n",
    "\n"
   ]
  },
  {
   "cell_type": "markdown",
   "id": "d9a6abea",
   "metadata": {},
   "source": [
    "### 6. Write a Python program to find N largest elements from a list?"
   ]
  },
  {
   "cell_type": "code",
   "execution_count": 8,
   "id": "0dc2089c",
   "metadata": {},
   "outputs": [
    {
     "name": "stdout",
     "output_type": "stream",
     "text": [
      "3 largest elements: [9, 7, 5]\n"
     ]
    }
   ],
   "source": [
    "def find_n_largest_elements(lst, n):\n",
    "    if len(lst) < n:\n",
    "        print(\"List does not have enough elements.\")\n",
    "        return None\n",
    "\n",
    "    lst.sort(reverse=True)\n",
    "    n_largest = lst[:n]\n",
    "    return n_largest\n",
    "\n",
    "# Test the function with a list of numbers and N value\n",
    "numbers = [5, 3, 9, 1, 7]\n",
    "N = 3\n",
    "result = find_n_largest_elements(numbers, N)\n",
    "print(f\"{N} largest elements:\", result)\n"
   ]
  },
  {
   "cell_type": "markdown",
   "id": "544fbdde",
   "metadata": {},
   "source": [
    "### 7. Write a Python program to print even numbers in a list?"
   ]
  },
  {
   "cell_type": "code",
   "execution_count": 10,
   "id": "9dd37d96",
   "metadata": {},
   "outputs": [
    {
     "name": "stdout",
     "output_type": "stream",
     "text": [
      "Even numbers:\n",
      "2\n",
      "4\n",
      "6\n",
      "8\n",
      "10\n"
     ]
    }
   ],
   "source": [
    "def print_even_numbers(lst):\n",
    "    even_numbers = [num for num in lst if num % 2 == 0]\n",
    "    for num in even_numbers:\n",
    "        print(num)\n",
    "\n",
    "# Test the function with a list of numbers\n",
    "numbers = [1, 2, 3, 4, 5, 6, 7, 8, 9, 10]\n",
    "print(\"Even numbers:\")\n",
    "print_even_numbers(numbers)\n",
    "\n"
   ]
  },
  {
   "cell_type": "markdown",
   "id": "dc684cfb",
   "metadata": {},
   "source": [
    "### 8. Write a Python program to print odd numbers in a List?"
   ]
  },
  {
   "cell_type": "code",
   "execution_count": 11,
   "id": "5045d835",
   "metadata": {},
   "outputs": [
    {
     "name": "stdout",
     "output_type": "stream",
     "text": [
      "Odd numbers:\n",
      "1\n",
      "3\n",
      "5\n",
      "7\n",
      "9\n"
     ]
    }
   ],
   "source": [
    "def print_odd_numbers(lst):\n",
    "    odd_numbers = [num for num in lst if num % 2 != 0]\n",
    "    for num in odd_numbers:\n",
    "        print(num)\n",
    "\n",
    "# Test the function with a list of numbers\n",
    "numbers = [1, 2, 3, 4, 5, 6, 7, 8, 9, 10]\n",
    "print(\"Odd numbers:\")\n",
    "print_odd_numbers(numbers)\n"
   ]
  },
  {
   "cell_type": "markdown",
   "id": "fd18f71d",
   "metadata": {},
   "source": [
    "### 9. Write a Python program to Remove empty List from List?"
   ]
  },
  {
   "cell_type": "code",
   "execution_count": 12,
   "id": "ca759ad6",
   "metadata": {},
   "outputs": [
    {
     "name": "stdout",
     "output_type": "stream",
     "text": [
      "Original list: [1, [], [2, 3], [], 4, [], [5, 6, 7], []]\n",
      "List after removing empty lists: [1, [2, 3], 4, [5, 6, 7]]\n"
     ]
    }
   ],
   "source": [
    "def remove_empty_lists(lst):\n",
    "    result = [sublist for sublist in lst if sublist]\n",
    "    return result\n",
    "\n",
    "# Test the function with a list containing empty lists\n",
    "my_list = [1, [], [2, 3], [], 4, [], [5, 6, 7], []]\n",
    "print(\"Original list:\", my_list)\n",
    "filtered_list = remove_empty_lists(my_list)\n",
    "print(\"List after removing empty lists:\", filtered_list)\n"
   ]
  },
  {
   "cell_type": "markdown",
   "id": "9559f8f8",
   "metadata": {},
   "source": [
    "### 10. Write a Python program to Cloning or Copying a list?"
   ]
  },
  {
   "cell_type": "code",
   "execution_count": 13,
   "id": "978fa06c",
   "metadata": {},
   "outputs": [
    {
     "name": "stdout",
     "output_type": "stream",
     "text": [
      "Original list: [1, 2, 3, 4, 5]\n",
      "Cloned list: [1, 2, 3, 4, 5]\n"
     ]
    }
   ],
   "source": [
    "def clone_list(lst):\n",
    "    return lst.copy()\n",
    "\n",
    "# Test the function with a list\n",
    "original_list = [1, 2, 3, 4, 5]\n",
    "cloned_list = clone_list(original_list)\n",
    "\n",
    "print(\"Original list:\", original_list)\n",
    "print(\"Cloned list:\", cloned_list)\n"
   ]
  },
  {
   "cell_type": "markdown",
   "id": "c9ebc122",
   "metadata": {},
   "source": [
    "### 11. Write a Python program to Count occurrences of an element in a list?"
   ]
  },
  {
   "cell_type": "code",
   "execution_count": 14,
   "id": "c3f933ce",
   "metadata": {},
   "outputs": [
    {
     "name": "stdout",
     "output_type": "stream",
     "text": [
      "List: [1, 2, 3, 4, 2, 2, 5, 2]\n",
      "Element to count: 2\n",
      "Occurrences: 4\n"
     ]
    }
   ],
   "source": [
    "def count_occurrences(lst, element):\n",
    "    count = lst.count(element)\n",
    "    return count\n",
    "\n",
    "# Test the function with a list and an element\n",
    "my_list = [1, 2, 3, 4, 2, 2, 5, 2]\n",
    "element_to_count = 2\n",
    "occurrences = count_occurrences(my_list, element_to_count)\n",
    "\n",
    "print(\"List:\", my_list)\n",
    "print(\"Element to count:\", element_to_count)\n",
    "print(\"Occurrences:\", occurrences)\n"
   ]
  },
  {
   "cell_type": "code",
   "execution_count": null,
   "id": "b78ad4d9",
   "metadata": {},
   "outputs": [],
   "source": []
  }
 ],
 "metadata": {
  "kernelspec": {
   "display_name": "Python 3 (ipykernel)",
   "language": "python",
   "name": "python3"
  },
  "language_info": {
   "codemirror_mode": {
    "name": "ipython",
    "version": 3
   },
   "file_extension": ".py",
   "mimetype": "text/x-python",
   "name": "python",
   "nbconvert_exporter": "python",
   "pygments_lexer": "ipython3",
   "version": "3.10.9"
  }
 },
 "nbformat": 4,
 "nbformat_minor": 5
}
