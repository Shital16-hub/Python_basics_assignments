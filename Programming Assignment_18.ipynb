{
 "cells": [
  {
   "cell_type": "markdown",
   "id": "bb1e3f88",
   "metadata": {},
   "source": [
    "Question 1\n",
    "Create a function that takes a list of non-negative integers and strings and return a new list\n",
    "without the strings.\n",
    "\n",
    "Examples\n",
    "\n",
    "filter_list([1, 2, &quot;a&quot;, &quot;b&quot;]) ➞ [1, 2]\n",
    "\n",
    "filter_list([1, &quot;a&quot;, &quot;b&quot;, 0, 15]) ➞ [1, 0, 15]\n",
    "\n",
    "filter_list([1, 2, &quot;aasf&quot;, &quot;1&quot;, &quot;123&quot;, 123]) ➞ [1, 2, 123]"
   ]
  },
  {
   "cell_type": "code",
   "execution_count": 1,
   "id": "974ab0ba",
   "metadata": {},
   "outputs": [
    {
     "name": "stdout",
     "output_type": "stream",
     "text": [
      "[1, 2]\n",
      "[1, 0, 15]\n",
      "[1, 2, 123]\n"
     ]
    }
   ],
   "source": [
    "def filter_list(lst):\n",
    "    return [x for x in lst if isinstance(x, int)]\n",
    "\n",
    "# Test cases\n",
    "print(filter_list([1, 2, \"a\", \"b\"]))  # Output: [1, 2]\n",
    "print(filter_list([1, \"a\", \"b\", 0, 15]))  # Output: [1, 0, 15]\n",
    "print(filter_list([1, 2, \"aasf\", \"1\", \"123\", 123]))  # Output: [1, 2, 123]\n"
   ]
  },
  {
   "cell_type": "markdown",
   "id": "3893f3b6",
   "metadata": {},
   "source": [
    "Question 2\n",
    "The 'Reverser' takes a string as input and returns that string in reverse order, with the\n",
    "opposite case.\n",
    "\n",
    "Examples\n",
    "\n",
    "reverse('Hello World') ➞ 'DLROw OLLEh'\n",
    "\n",
    "reverse('ReVeRsE') ➞ 'eSrEvEr'\n",
    "\n",
    "reverse('Radar') ➞ 'RADAr'"
   ]
  },
  {
   "cell_type": "code",
   "execution_count": 2,
   "id": "cc9d7661",
   "metadata": {},
   "outputs": [
    {
     "name": "stdout",
     "output_type": "stream",
     "text": [
      "DLROw OLLEh\n",
      "eSrEvEr\n",
      "RADAr\n"
     ]
    }
   ],
   "source": [
    "def reverse(s):\n",
    "    reversed_str = s[::-1]  # Reverse the string\n",
    "    swapped_case_str = reversed_str.swapcase()  # Swap the case of characters\n",
    "    return swapped_case_str\n",
    "\n",
    "# Test cases\n",
    "print(reverse(\"Hello World\"))  # Output: \"DLROw OLLEh\"\n",
    "print(reverse(\"ReVeRsE\"))  # Output: \"eSrEvEr\"\n",
    "print(reverse(\"Radar\"))  # Output: \"RADAr\"\n"
   ]
  },
  {
   "cell_type": "markdown",
   "id": "18fdbc7c",
   "metadata": {},
   "source": [
    "You can assign variables from lists like this:\n",
    "lst = [1, 2, 3, 4, 5, 6]\n",
    "first = lst[0]\n",
    "middle = lst[1:-1]\n",
    "last = lst[-1]\n",
    "\n",
    "print(first) ➞ outputs 1\n",
    "print(middle) ➞ outputs [2, 3, 4, 5]\n",
    "print(last) ➞ outputs 6\n",
    "\n",
    "With Python 3, you can assign variables from lists in a much more succinct way. Create\n",
    "variables first, middle and last from the given list using destructuring assignment\n",
    "(check the Resources tab for some examples), where:\n",
    "first ➞ 1\n",
    "middle ➞ [2, 3, 4, 5]\n",
    "last ➞ 6\n",
    "\n",
    "Your task is to unpack the list writeyourcodehere into three variables, being first,\n",
    "middle, and last, with middle being everything in between the first and last element. Then\n",
    "print all three variables."
   ]
  },
  {
   "cell_type": "code",
   "execution_count": 3,
   "id": "65385d9a",
   "metadata": {},
   "outputs": [
    {
     "name": "stdout",
     "output_type": "stream",
     "text": [
      "1\n",
      "[2, 3, 4, 5]\n",
      "6\n"
     ]
    }
   ],
   "source": [
    "# Given list\n",
    "writeyourcodehere = [1, 2, 3, 4, 5, 6]\n",
    "\n",
    "# Destructuring assignment\n",
    "first, *middle, last = writeyourcodehere\n",
    "\n",
    "# Print the variables\n",
    "print(first)   # Output: 1\n",
    "print(middle)  # Output: [2, 3, 4, 5]\n",
    "print(last)    # Output: 6\n"
   ]
  },
  {
   "cell_type": "markdown",
   "id": "fa577acf",
   "metadata": {},
   "source": [
    "Question 4\n",
    "Write a function that calculates the factorial of a number recursively.\n",
    "\n",
    "Examples\n",
    "\n",
    "factorial(5) ➞ 120\n",
    "\n",
    "factorial(3) ➞ 6\n",
    "\n",
    "factorial(1) ➞ 1\n",
    "\n",
    "factorial(0) ➞ 1"
   ]
  },
  {
   "cell_type": "code",
   "execution_count": 4,
   "id": "e2e8240d",
   "metadata": {},
   "outputs": [
    {
     "name": "stdout",
     "output_type": "stream",
     "text": [
      "120\n",
      "6\n",
      "1\n",
      "1\n"
     ]
    }
   ],
   "source": [
    "def factorial(n):\n",
    "    if n == 0 or n == 1:\n",
    "        return 1\n",
    "    else:\n",
    "        return n * factorial(n - 1)\n",
    "\n",
    "# Test cases\n",
    "print(factorial(5))  # Output: 120\n",
    "print(factorial(3))  # Output: 6\n",
    "print(factorial(1))  # Output: 1\n",
    "print(factorial(0))  # Output: 1\n"
   ]
  },
  {
   "cell_type": "markdown",
   "id": "1ea1e1c6",
   "metadata": {},
   "source": [
    "Question 5\n",
    "Write a function that moves all elements of one type to the end of the list.\n",
    "Examples\n",
    "move_to_end([1, 3, 2, 4, 4, 1], 1) ➞ [3, 2, 4, 4, 1, 1]\n",
    "#Move all the 1s to the end of the array.\n",
    "move_to_end([7, 8, 9, 1, 2, 3, 4], 9) ➞ [7, 8, 1, 2, 3, 4, 9]\n",
    "move_to_end([&quot;a&quot;, &quot;a&quot;, &quot;a&quot;, &quot;b&quot;], &quot;a&quot;) ➞ [&quot;b&quot;, &quot;a&quot;, &quot;a&quot;, &quot;a&quot;]"
   ]
  },
  {
   "cell_type": "code",
   "execution_count": 5,
   "id": "45bfc1d0",
   "metadata": {},
   "outputs": [
    {
     "name": "stdout",
     "output_type": "stream",
     "text": [
      "[3, 2, 4, 4, 1, 1]\n",
      "[7, 8, 1, 2, 3, 4, 9]\n",
      "['b', 'a', 'a', 'a']\n"
     ]
    }
   ],
   "source": [
    "def move_to_end(lst, element):\n",
    "    result = [x for x in lst if x != element]  # Filter out the specified element\n",
    "    count = len(lst) - len(result)  # Count of specified element\n",
    "    result.extend([element] * count)  # Append the specified element at the end\n",
    "    return result\n",
    "\n",
    "# Test cases\n",
    "print(move_to_end([1, 3, 2, 4, 4, 1], 1))  # Output: [3, 2, 4, 4, 1, 1]\n",
    "print(move_to_end([7, 8, 9, 1, 2, 3, 4], 9))  # Output: [7, 8, 1, 2, 3, 4, 9]\n",
    "print(move_to_end([\"a\", \"a\", \"a\", \"b\"], \"a\"))  # Output: [\"b\", \"a\", \"a\", \"a\"]\n"
   ]
  },
  {
   "cell_type": "code",
   "execution_count": null,
   "id": "a8c21c34",
   "metadata": {},
   "outputs": [],
   "source": []
  }
 ],
 "metadata": {
  "kernelspec": {
   "display_name": "Python 3 (ipykernel)",
   "language": "python",
   "name": "python3"
  },
  "language_info": {
   "codemirror_mode": {
    "name": "ipython",
    "version": 3
   },
   "file_extension": ".py",
   "mimetype": "text/x-python",
   "name": "python",
   "nbconvert_exporter": "python",
   "pygments_lexer": "ipython3",
   "version": "3.10.9"
  }
 },
 "nbformat": 4,
 "nbformat_minor": 5
}
