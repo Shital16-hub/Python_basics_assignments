{
 "cells": [
  {
   "cell_type": "markdown",
   "id": "e6a59ade",
   "metadata": {},
   "source": [
    "### Define a class with a generator which can iterate the numbers, which are divisible by 7, between a given range 0 and n."
   ]
  },
  {
   "cell_type": "code",
   "execution_count": 1,
   "id": "6df2155b",
   "metadata": {},
   "outputs": [
    {
     "name": "stdout",
     "output_type": "stream",
     "text": [
      "0\n",
      "7\n",
      "14\n",
      "21\n",
      "28\n",
      "35\n",
      "42\n",
      "49\n"
     ]
    }
   ],
   "source": [
    "class DivisibleBySevenGenerator:\n",
    "    def __init__(self, n):\n",
    "        self.n = n\n",
    "\n",
    "    def divisible_by_seven(self):\n",
    "        for i in range(self.n + 1):\n",
    "            if i % 7 == 0:\n",
    "                yield i\n",
    "\n",
    "# Example usage\n",
    "n = 50\n",
    "generator = DivisibleBySevenGenerator(n)\n",
    "for num in generator.divisible_by_seven():\n",
    "    print(num)\n"
   ]
  },
  {
   "cell_type": "markdown",
   "id": "2382363c",
   "metadata": {},
   "source": [
    "Write a program to compute the frequency of the words from the input. The output should output after sorting the key alphanumerically.\n",
    "Suppose the following input is supplied to the program:\n",
    "New to Python or choosing between Python 2 and Python 3? Read Python 2 or\n",
    "Python 3.\n",
    "Then, the output should be:\n",
    "\n",
    "2:2\n",
    "\n",
    "3.:1\n",
    "\n",
    "3?:1\n",
    "\n",
    "New:1\n",
    "\n",
    "Python:5\n",
    "\n",
    "Read:1\n",
    "\n",
    "and:1\n",
    "\n",
    "between:1\n",
    "\n",
    "choosing:1\n",
    "\n",
    "or:2\n",
    "\n",
    "to:1\n"
   ]
  },
  {
   "cell_type": "code",
   "execution_count": 2,
   "id": "1c2f2d58",
   "metadata": {},
   "outputs": [
    {
     "name": "stdout",
     "output_type": "stream",
     "text": [
      "2:2\n",
      "3.:1\n",
      "3?:1\n",
      "New:1\n",
      "Python:5\n",
      "Read:1\n",
      "and:1\n",
      "between:1\n",
      "choosing:1\n",
      "or:2\n",
      "to:1\n"
     ]
    }
   ],
   "source": [
    "class WordFrequencyCounter:\n",
    "    def __init__(self, sentence):\n",
    "        self.sentence = sentence\n",
    "\n",
    "    def count_word_frequency(self):\n",
    "        words = self.sentence.split()\n",
    "        frequency = {}\n",
    "        for word in words:\n",
    "            frequency[word] = frequency.get(word, 0) + 1\n",
    "\n",
    "        sorted_frequency = sorted(frequency.items(), key=lambda x: x[0])\n",
    "        for word, count in sorted_frequency:\n",
    "            print(f\"{word}:{count}\")\n",
    "\n",
    "# Example usage\n",
    "sentence = \"New to Python or choosing between Python 2 and Python 3? Read Python 2 or Python 3.\"\n",
    "counter = WordFrequencyCounter(sentence)\n",
    "counter.count_word_frequency()\n"
   ]
  },
  {
   "cell_type": "markdown",
   "id": "600fae18",
   "metadata": {},
   "source": [
    "Define a class Person and its two child classes: Male and Female. All classes have a\n",
    "method &quot;getGender&quot; which can print &quot;Male&quot; for Male class and &quot;Female&quot; for Female\n",
    "class."
   ]
  },
  {
   "cell_type": "code",
   "execution_count": 3,
   "id": "0577716c",
   "metadata": {},
   "outputs": [
    {
     "name": "stdout",
     "output_type": "stream",
     "text": [
      "Male\n",
      "Female\n"
     ]
    }
   ],
   "source": [
    "class Person:\n",
    "    def getGender(self):\n",
    "        pass\n",
    "\n",
    "\n",
    "class Male(Person):\n",
    "    def getGender(self):\n",
    "        print(\"Male\")\n",
    "\n",
    "\n",
    "class Female(Person):\n",
    "    def getGender(self):\n",
    "        print(\"Female\")\n",
    "\n",
    "\n",
    "# Example usage\n",
    "person1 = Male()\n",
    "person1.getGender()  # Output: Male\n",
    "\n",
    "person2 = Female()\n",
    "person2.getGender()  # Output: Female\n"
   ]
  },
  {
   "cell_type": "markdown",
   "id": "876023dc",
   "metadata": {},
   "source": [
    "Question 4:\n",
    "Please write a program to generate all sentences where subject is in [&quot;I&quot;, &quot;You&quot;] and\n",
    "verb is in [&quot;Play&quot;, &quot;Love&quot;] and the object is in [&quot;Hockey&quot;,&quot;Football&quot;]."
   ]
  },
  {
   "cell_type": "code",
   "execution_count": 4,
   "id": "7a234c30",
   "metadata": {},
   "outputs": [
    {
     "name": "stdout",
     "output_type": "stream",
     "text": [
      "I Play Hockey.\n",
      "I Play Football.\n",
      "I Love Hockey.\n",
      "I Love Football.\n",
      "You Play Hockey.\n",
      "You Play Football.\n",
      "You Love Hockey.\n",
      "You Love Football.\n"
     ]
    }
   ],
   "source": [
    "subjects = [\"I\", \"You\"]\n",
    "verbs = [\"Play\", \"Love\"]\n",
    "objects = [\"Hockey\", \"Football\"]\n",
    "\n",
    "sentences = []\n",
    "\n",
    "for subject in subjects:\n",
    "    for verb in verbs:\n",
    "        for obj in objects:\n",
    "            sentence = f\"{subject} {verb} {obj}.\"\n",
    "            sentences.append(sentence)\n",
    "\n",
    "# Print all generated sentences\n",
    "for sentence in sentences:\n",
    "    print(sentence)\n"
   ]
  },
  {
   "cell_type": "markdown",
   "id": "06af2629",
   "metadata": {},
   "source": [
    "Please write a program to compress and decompress the string &quot;hello world!hello\n",
    "world!hello world!hello world!&quot;."
   ]
  },
  {
   "cell_type": "code",
   "execution_count": 5,
   "id": "1ae6a55e",
   "metadata": {},
   "outputs": [
    {
     "name": "stdout",
     "output_type": "stream",
     "text": [
      "Compressed data: b'x\\x9c\\xcbH\\xcd\\xc9\\xc9W(\\xcf/\\xcaIQ\\xcc \\x82\\r\\x00\\xbd[\\x11\\xf5'\n",
      "Decompressed string: hello world!hello world!hello world!hello world!\n"
     ]
    }
   ],
   "source": [
    "import zlib\n",
    "\n",
    "def compress_string(input_string):\n",
    "    compressed_data = zlib.compress(input_string.encode())\n",
    "    return compressed_data\n",
    "\n",
    "def decompress_string(compressed_data):\n",
    "    decompressed_string = zlib.decompress(compressed_data).decode()\n",
    "    return decompressed_string\n",
    "\n",
    "# Example usage\n",
    "input_string = \"hello world!hello world!hello world!hello world!\"\n",
    "\n",
    "compressed_data = compress_string(input_string)\n",
    "print(f\"Compressed data: {compressed_data}\")\n",
    "\n",
    "decompressed_string = decompress_string(compressed_data)\n",
    "print(f\"Decompressed string: {decompressed_string}\")\n"
   ]
  },
  {
   "cell_type": "markdown",
   "id": "275b18a5",
   "metadata": {},
   "source": [
    "Please write a binary search function which searches an item in a sorted list. The\n",
    "function should return the index of element to be searched in the list."
   ]
  },
  {
   "cell_type": "code",
   "execution_count": 6,
   "id": "38916895",
   "metadata": {},
   "outputs": [
    {
     "name": "stdout",
     "output_type": "stream",
     "text": [
      "Element 11 found at index 5.\n"
     ]
    }
   ],
   "source": [
    "def binary_search(arr, target):\n",
    "    left = 0\n",
    "    right = len(arr) - 1\n",
    "\n",
    "    while left <= right:\n",
    "        mid = (left + right) // 2\n",
    "\n",
    "        if arr[mid] == target:\n",
    "            return mid\n",
    "        elif arr[mid] < target:\n",
    "            left = mid + 1\n",
    "        else:\n",
    "            right = mid - 1\n",
    "\n",
    "    return -1\n",
    "\n",
    "# Example usage\n",
    "sorted_list = [1, 3, 5, 7, 9, 11, 13, 15, 17, 19]\n",
    "target = 11\n",
    "\n",
    "result = binary_search(sorted_list, target)\n",
    "if result != -1:\n",
    "    print(f\"Element {target} found at index {result}.\")\n",
    "else:\n",
    "    print(f\"Element {target} not found in the list.\")\n"
   ]
  },
  {
   "cell_type": "code",
   "execution_count": null,
   "id": "6b907f41",
   "metadata": {},
   "outputs": [],
   "source": []
  }
 ],
 "metadata": {
  "kernelspec": {
   "display_name": "Python 3 (ipykernel)",
   "language": "python",
   "name": "python3"
  },
  "language_info": {
   "codemirror_mode": {
    "name": "ipython",
    "version": 3
   },
   "file_extension": ".py",
   "mimetype": "text/x-python",
   "name": "python",
   "nbconvert_exporter": "python",
   "pygments_lexer": "ipython3",
   "version": "3.10.9"
  }
 },
 "nbformat": 4,
 "nbformat_minor": 5
}
