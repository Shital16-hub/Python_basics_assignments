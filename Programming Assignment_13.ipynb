{
 "cells": [
  {
   "cell_type": "markdown",
   "id": "8d25fd47",
   "metadata": {},
   "source": [
    "Write a program that calculates and prints the value according to the given formula:\n",
    "Q = Square root of [(2 * C * D)/H]\n",
    "Following are the fixed values of C and H:\n",
    "C is 50. H is 30.\n",
    "D is the variable whose values should be input to your program in a comma-separated\n",
    "sequence.\n",
    "Example\n",
    "Let us assume the following comma separated input sequence is given to the program:\n",
    "100,150,180\n",
    "The output of the program should be:\n",
    "18,22,24\n"
   ]
  },
  {
   "cell_type": "code",
   "execution_count": 1,
   "id": "0a9b13f4",
   "metadata": {},
   "outputs": [
    {
     "name": "stdout",
     "output_type": "stream",
     "text": [
      "Enter comma-separated values for D: 12,10,5\n",
      "Output: 6,5,4\n"
     ]
    }
   ],
   "source": [
    "import math\n",
    "\n",
    "def calculate_values(input_sequence, C, H):\n",
    "    values = []\n",
    "    for item in input_sequence:\n",
    "        D = int(item)\n",
    "        Q = int(math.sqrt((2 * C * D) / H))\n",
    "        values.append(Q)\n",
    "    return values\n",
    "\n",
    "# Example usage\n",
    "input_sequence = input(\"Enter comma-separated values for D: \").split(',')\n",
    "C = 50\n",
    "H = 30\n",
    "\n",
    "result = calculate_values(input_sequence, C, H)\n",
    "output = ','.join(str(value) for value in result)\n",
    "print(\"Output: \" + output)\n"
   ]
  },
  {
   "cell_type": "markdown",
   "id": "435a21dd",
   "metadata": {},
   "source": [
    "Write a program which takes 2 digits, X,Y as input and generates a 2-dimensional array. The\n",
    "element value in the i-th row and j-th column of the array should be i*j.\n",
    "Note: i=0,1.., X-1; j=0,1,¡Y-1.\n",
    "Example\n",
    "Suppose the following inputs are given to the program:\n",
    "3,5\n",
    "Then, the output of the program should be:\n",
    "[[0, 0, 0, 0, 0], [0, 1, 2, 3, 4], [0, 2, 4, 6, 8]]"
   ]
  },
  {
   "cell_type": "code",
   "execution_count": 2,
   "id": "ee803a74",
   "metadata": {},
   "outputs": [
    {
     "name": "stdout",
     "output_type": "stream",
     "text": [
      "Enter two digits (X, Y): 3,5\n",
      "Output:\n",
      "[0, 0, 0, 0, 0]\n",
      "[0, 1, 2, 3, 4]\n",
      "[0, 2, 4, 6, 8]\n"
     ]
    }
   ],
   "source": [
    "def generate_2d_array(X, Y):\n",
    "    array = []\n",
    "    for i in range(X):\n",
    "        row = []\n",
    "        for j in range(Y):\n",
    "            row.append(i * j)\n",
    "        array.append(row)\n",
    "    return array\n",
    "\n",
    "# Example usage\n",
    "X, Y = map(int, input(\"Enter two digits (X, Y): \").split(','))\n",
    "\n",
    "result = generate_2d_array(X, Y)\n",
    "print(\"Output:\")\n",
    "for row in result:\n",
    "    print(row)\n"
   ]
  },
  {
   "cell_type": "markdown",
   "id": "a409034c",
   "metadata": {},
   "source": [
    "Write a program that accepts a comma separated sequence of words as input and prints the\n",
    "words in a comma-separated sequence after sorting them alphabetically.\n",
    "Suppose the following input is supplied to the program:\n",
    "without,hello,bag,world\n",
    "Then, the output should be:\n",
    "bag,hello,without,world"
   ]
  },
  {
   "cell_type": "code",
   "execution_count": 3,
   "id": "59cc8890",
   "metadata": {},
   "outputs": [
    {
     "name": "stdout",
     "output_type": "stream",
     "text": [
      "Enter a comma-separated sequence of words: kjgf,hfdh,kjk,ade\n",
      "Sorted sequence: ade,hfdh,kjgf,kjk\n"
     ]
    }
   ],
   "source": [
    "def sort_words_sequence(words_sequence):\n",
    "    words = words_sequence.split(',')\n",
    "    sorted_words = sorted(words)\n",
    "    sorted_sequence = ','.join(sorted_words)\n",
    "    return sorted_sequence\n",
    "\n",
    "# Example input\n",
    "input_sequence = input(\"Enter a comma-separated sequence of words: \")\n",
    "\n",
    "sorted_sequence = sort_words_sequence(input_sequence)\n",
    "print(\"Sorted sequence:\", sorted_sequence)\n"
   ]
  },
  {
   "cell_type": "markdown",
   "id": "4bedc35e",
   "metadata": {},
   "source": [
    "Write a program that accepts a sequence of whitespace separated words as input and prints\n",
    "the words after removing all duplicate words and sorting them alphanumerically.\n",
    "Suppose the following input is supplied to the program:\n",
    "hello world and practice makes perfect and hello world again\n",
    "Then, the output should be:\n",
    "again and hello makes perfect practice world"
   ]
  },
  {
   "cell_type": "code",
   "execution_count": 4,
   "id": "440975b5",
   "metadata": {},
   "outputs": [
    {
     "name": "stdout",
     "output_type": "stream",
     "text": [
      "Enter a whitespace-separated sequence of words: hi hgf hyu hi wsad hvf\n",
      "Output sequence: hgf hi hvf hyu wsad\n"
     ]
    }
   ],
   "source": [
    "def remove_duplicates_and_sort_words(word_sequence):\n",
    "    words = word_sequence.split()\n",
    "    unique_words = list(set(words))\n",
    "    sorted_words = sorted(unique_words)\n",
    "    return sorted_words\n",
    "\n",
    "# Example input\n",
    "input_sequence = input(\"Enter a whitespace-separated sequence of words: \")\n",
    "\n",
    "sorted_words = remove_duplicates_and_sort_words(input_sequence)\n",
    "output_sequence = ' '.join(sorted_words)\n",
    "print(\"Output sequence:\", output_sequence)\n"
   ]
  },
  {
   "cell_type": "code",
   "execution_count": 5,
   "id": "50817d6a",
   "metadata": {},
   "outputs": [
    {
     "name": "stdout",
     "output_type": "stream",
     "text": [
      "Enter a sentence: hfmj,kjgjh\n",
      "LETTERS: 9\n",
      "DIGITS: 0\n"
     ]
    }
   ],
   "source": [
    "def count_letters_digits(sentence):\n",
    "    letters = 0\n",
    "    digits = 0\n",
    "\n",
    "    for char in sentence:\n",
    "        if char.isalpha():\n",
    "            letters += 1\n",
    "        elif char.isdigit():\n",
    "            digits += 1\n",
    "\n",
    "    return letters, digits\n",
    "\n",
    "# Example input\n",
    "input_sentence = input(\"Enter a sentence: \")\n",
    "\n",
    "letter_count, digit_count = count_letters_digits(input_sentence)\n",
    "print(\"LETTERS:\", letter_count)\n",
    "print(\"DIGITS:\", digit_count)\n"
   ]
  },
  {
   "cell_type": "markdown",
   "id": "8f3fa0bc",
   "metadata": {},
   "source": [
    "A website requires the users to input username and password to register. Write a program to\n",
    "check the validity of password input by users.\n",
    "Following are the criteria for checking the password:\n",
    "1. At least 1 letter between [a-z]\n",
    "2. At least 1 number between [0-9]\n",
    "1. At least 1 letter between [A-Z]\n",
    "3. At least 1 character from [$#@]\n",
    "4. Minimum length of transaction password: 6\n",
    "5. Maximum length of transaction password: 12\n",
    "Your program should accept a sequence of comma separated passwords and will check them\n",
    "according to the above criteria. Passwords that match the criteria are to be printed, each\n",
    "separated by a comma.\n",
    "Example\n",
    "If the following passwords are given as input to the program:\n",
    "ABd1234@1,a F1#,2w3E*,2We3345\n",
    "Then, the output of the program should be:\n",
    "ABd1234@1"
   ]
  },
  {
   "cell_type": "code",
   "execution_count": 6,
   "id": "a633601a",
   "metadata": {},
   "outputs": [
    {
     "name": "stdout",
     "output_type": "stream",
     "text": [
      "Enter comma-separated passwords: hgfhgf'ghfhg\n",
      "Valid passwords: \n"
     ]
    }
   ],
   "source": [
    "import re\n",
    "\n",
    "def check_password_validity(password):\n",
    "    # Check length of password\n",
    "    if len(password) < 6 or len(password) > 12:\n",
    "        return False\n",
    "\n",
    "    # Check for at least 1 lowercase letter\n",
    "    if not re.search(r'[a-z]', password):\n",
    "        return False\n",
    "\n",
    "    # Check for at least 1 uppercase letter\n",
    "    if not re.search(r'[A-Z]', password):\n",
    "        return False\n",
    "\n",
    "    # Check for at least 1 digit\n",
    "    if not re.search(r'\\d', password):\n",
    "        return False\n",
    "\n",
    "    # Check for at least 1 special character from [$#@]\n",
    "    if not re.search(r'[$#@]', password):\n",
    "        return False\n",
    "\n",
    "    return True\n",
    "\n",
    "# Example input\n",
    "input_passwords = input(\"Enter comma-separated passwords: \")\n",
    "passwords = input_passwords.split(',')\n",
    "\n",
    "valid_passwords = []\n",
    "for password in passwords:\n",
    "    if check_password_validity(password):\n",
    "        valid_passwords.append(password)\n",
    "\n",
    "output = ','.join(valid_passwords)\n",
    "print(\"Valid passwords:\", output)\n"
   ]
  },
  {
   "cell_type": "code",
   "execution_count": null,
   "id": "34b982e5",
   "metadata": {},
   "outputs": [],
   "source": []
  }
 ],
 "metadata": {
  "kernelspec": {
   "display_name": "Python 3 (ipykernel)",
   "language": "python",
   "name": "python3"
  },
  "language_info": {
   "codemirror_mode": {
    "name": "ipython",
    "version": 3
   },
   "file_extension": ".py",
   "mimetype": "text/x-python",
   "name": "python",
   "nbconvert_exporter": "python",
   "pygments_lexer": "ipython3",
   "version": "3.10.9"
  }
 },
 "nbformat": 4,
 "nbformat_minor": 5
}
