{
 "cells": [
  {
   "cell_type": "markdown",
   "id": "87719e1d",
   "metadata": {},
   "source": [
    "### 1. Write a Python Program to Add Two Matrices?"
   ]
  },
  {
   "cell_type": "code",
   "execution_count": 1,
   "id": "c16f4313",
   "metadata": {},
   "outputs": [
    {
     "name": "stdout",
     "output_type": "stream",
     "text": [
      "Resultant Matrix:\n",
      "[10, 10, 10]\n",
      "[10, 10, 10]\n",
      "[10, 10, 10]\n"
     ]
    }
   ],
   "source": [
    "def add_matrices(matrix1, matrix2):\n",
    "    # Get the dimensions of the matrices\n",
    "    rows1 = len(matrix1)\n",
    "    cols1 = len(matrix1[0])\n",
    "    rows2 = len(matrix2)\n",
    "    cols2 = len(matrix2[0])\n",
    "\n",
    "    # Check if the dimensions are compatible for addition\n",
    "    if rows1 != rows2 or cols1 != cols2:\n",
    "        return None\n",
    "\n",
    "    # Create a new matrix to store the result\n",
    "    result_matrix = []\n",
    "    for i in range(rows1):\n",
    "        row = []\n",
    "        for j in range(cols1):\n",
    "            # Add corresponding elements from matrix1 and matrix2\n",
    "            element_sum = matrix1[i][j] + matrix2[i][j]\n",
    "            row.append(element_sum)\n",
    "        result_matrix.append(row)\n",
    "\n",
    "    return result_matrix\n",
    "\n",
    "# Example usage\n",
    "matrix1 = [[1, 2, 3],\n",
    "           [4, 5, 6],\n",
    "           [7, 8, 9]]\n",
    "\n",
    "matrix2 = [[9, 8, 7],\n",
    "           [6, 5, 4],\n",
    "           [3, 2, 1]]\n",
    "\n",
    "result = add_matrices(matrix1, matrix2)\n",
    "\n",
    "if result is None:\n",
    "    print(\"Matrix dimensions are not compatible for addition\")\n",
    "else:\n",
    "    print(\"Resultant Matrix:\")\n",
    "    for row in result:\n",
    "        print(row)\n"
   ]
  },
  {
   "cell_type": "markdown",
   "id": "1d583fa8",
   "metadata": {},
   "source": [
    "### 2. Write a Python Program to Multiply Two Matrices?"
   ]
  },
  {
   "cell_type": "code",
   "execution_count": 2,
   "id": "aa2a8925",
   "metadata": {},
   "outputs": [
    {
     "name": "stdout",
     "output_type": "stream",
     "text": [
      "Resultant Matrix:\n",
      "[30, 24, 18]\n",
      "[84, 69, 54]\n",
      "[138, 114, 90]\n"
     ]
    }
   ],
   "source": [
    "def multiply_matrices(matrix1, matrix2):\n",
    "    # Get the dimensions of the matrices\n",
    "    rows1 = len(matrix1)\n",
    "    cols1 = len(matrix1[0])\n",
    "    rows2 = len(matrix2)\n",
    "    cols2 = len(matrix2[0])\n",
    "\n",
    "    # Check if the dimensions are compatible for multiplication\n",
    "    if cols1 != rows2:\n",
    "        return None\n",
    "\n",
    "    # Create a new matrix to store the result\n",
    "    result_matrix = []\n",
    "    for i in range(rows1):\n",
    "        row = []\n",
    "        for j in range(cols2):\n",
    "            # Multiply corresponding elements from matrix1 and matrix2\n",
    "            element_sum = 0\n",
    "            for k in range(cols1):\n",
    "                element_sum += matrix1[i][k] * matrix2[k][j]\n",
    "            row.append(element_sum)\n",
    "        result_matrix.append(row)\n",
    "\n",
    "    return result_matrix\n",
    "\n",
    "# Example usage\n",
    "matrix1 = [[1, 2, 3],\n",
    "           [4, 5, 6],\n",
    "           [7, 8, 9]]\n",
    "\n",
    "matrix2 = [[9, 8, 7],\n",
    "           [6, 5, 4],\n",
    "           [3, 2, 1]]\n",
    "\n",
    "result = multiply_matrices(matrix1, matrix2)\n",
    "\n",
    "if result is None:\n",
    "    print(\"Matrix dimensions are not compatible for multiplication\")\n",
    "else:\n",
    "    print(\"Resultant Matrix:\")\n",
    "    for row in result:\n",
    "        print(row)\n"
   ]
  },
  {
   "cell_type": "markdown",
   "id": "cdef852a",
   "metadata": {},
   "source": [
    "### 3. Write a Python Program to Transpose a Matrix?"
   ]
  },
  {
   "cell_type": "code",
   "execution_count": 3,
   "id": "67c61638",
   "metadata": {},
   "outputs": [
    {
     "name": "stdout",
     "output_type": "stream",
     "text": [
      "Original Matrix:\n",
      "[1, 2, 3]\n",
      "[4, 5, 6]\n",
      "[7, 8, 9]\n",
      "Transposed Matrix:\n",
      "[1, 4, 7]\n",
      "[2, 5, 8]\n",
      "[3, 6, 9]\n"
     ]
    }
   ],
   "source": [
    "def transpose_matrix(matrix):\n",
    "    # Get the dimensions of the matrix\n",
    "    rows = len(matrix)\n",
    "    cols = len(matrix[0])\n",
    "\n",
    "    # Create a new matrix to store the transposed matrix\n",
    "    transposed_matrix = []\n",
    "    for j in range(cols):\n",
    "        transposed_row = []\n",
    "        for i in range(rows):\n",
    "            # Append the element at position (i, j) to the transposed row\n",
    "            transposed_row.append(matrix[i][j])\n",
    "        transposed_matrix.append(transposed_row)\n",
    "\n",
    "    return transposed_matrix\n",
    "\n",
    "# Example usage\n",
    "matrix = [[1, 2, 3],\n",
    "          [4, 5, 6],\n",
    "          [7, 8, 9]]\n",
    "\n",
    "result = transpose_matrix(matrix)\n",
    "\n",
    "print(\"Original Matrix:\")\n",
    "for row in matrix:\n",
    "    print(row)\n",
    "\n",
    "print(\"Transposed Matrix:\")\n",
    "for row in result:\n",
    "    print(row)\n"
   ]
  },
  {
   "cell_type": "markdown",
   "id": "dd276ac9",
   "metadata": {},
   "source": [
    "### 4. Write a Python Program to Sort Words in Alphabetic Order?"
   ]
  },
  {
   "cell_type": "code",
   "execution_count": 4,
   "id": "595dd92b",
   "metadata": {},
   "outputs": [
    {
     "name": "stdout",
     "output_type": "stream",
     "text": [
      "Original words: hello world openai python program\n",
      "Sorted words: hello openai program python world\n"
     ]
    }
   ],
   "source": [
    "def sort_words(words):\n",
    "    # Split the words into a list\n",
    "    word_list = words.split()\n",
    "\n",
    "    # Sort the words in alphabetical order\n",
    "    sorted_words = sorted(word_list)\n",
    "\n",
    "    return sorted_words\n",
    "\n",
    "# Example usage\n",
    "input_words = \"hello world openai python program\"\n",
    "result = sort_words(input_words)\n",
    "\n",
    "print(\"Original words:\", input_words)\n",
    "print(\"Sorted words:\", ' '.join(result))\n"
   ]
  },
  {
   "cell_type": "code",
   "execution_count": null,
   "id": "798d4f20",
   "metadata": {},
   "outputs": [],
   "source": []
  }
 ],
 "metadata": {
  "kernelspec": {
   "display_name": "Python 3 (ipykernel)",
   "language": "python",
   "name": "python3"
  },
  "language_info": {
   "codemirror_mode": {
    "name": "ipython",
    "version": 3
   },
   "file_extension": ".py",
   "mimetype": "text/x-python",
   "name": "python",
   "nbconvert_exporter": "python",
   "pygments_lexer": "ipython3",
   "version": "3.10.9"
  }
 },
 "nbformat": 4,
 "nbformat_minor": 5
}
