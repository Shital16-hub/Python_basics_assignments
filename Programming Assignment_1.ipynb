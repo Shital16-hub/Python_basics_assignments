{
 "cells": [
  {
   "cell_type": "markdown",
   "id": "6ec938cb",
   "metadata": {},
   "source": [
    "### 1. Write a Python program to print 'Hello Python'?"
   ]
  },
  {
   "cell_type": "code",
   "execution_count": 1,
   "id": "edc0b07c",
   "metadata": {},
   "outputs": [
    {
     "name": "stdout",
     "output_type": "stream",
     "text": [
      "Hello Python\n"
     ]
    }
   ],
   "source": [
    "print(\"Hello Python\")\n"
   ]
  },
  {
   "cell_type": "markdown",
   "id": "cd0afbac",
   "metadata": {},
   "source": [
    "### 2. Write a Python program to do arithmetical operations addition and division.?"
   ]
  },
  {
   "cell_type": "code",
   "execution_count": 2,
   "id": "0602eb82",
   "metadata": {},
   "outputs": [
    {
     "name": "stdout",
     "output_type": "stream",
     "text": [
      "Sum: 15\n",
      "Division: 2.0\n"
     ]
    }
   ],
   "source": [
    "a = 10\n",
    "b = 5\n",
    "\n",
    "# Addition\n",
    "sum_result = a + b\n",
    "print(\"Sum:\", sum_result)\n",
    "\n",
    "# Division\n",
    "div_result = a / b\n",
    "print(\"Division:\", div_result)\n"
   ]
  },
  {
   "cell_type": "markdown",
   "id": "d74005cc",
   "metadata": {},
   "source": [
    "### 3. Write a Python program to find the area of a triangle?"
   ]
  },
  {
   "cell_type": "code",
   "execution_count": 3,
   "id": "5f22e81d",
   "metadata": {},
   "outputs": [
    {
     "name": "stdout",
     "output_type": "stream",
     "text": [
      "Area of the triangle: 25.0\n"
     ]
    }
   ],
   "source": [
    "base = 10\n",
    "height = 5\n",
    "\n",
    "area = 0.5 * base * height\n",
    "print(\"Area of the triangle:\", area)\n"
   ]
  },
  {
   "cell_type": "markdown",
   "id": "1a37fa90",
   "metadata": {},
   "source": [
    "### 4. Write a Python program to swap two variables?"
   ]
  },
  {
   "cell_type": "code",
   "execution_count": 4,
   "id": "3010835f",
   "metadata": {},
   "outputs": [
    {
     "name": "stdout",
     "output_type": "stream",
     "text": [
      "Before swapping:\n",
      "a = 10\n",
      "b = 5\n",
      "After swapping:\n",
      "a = 5\n",
      "b = 10\n"
     ]
    }
   ],
   "source": [
    "a = 10\n",
    "b = 5\n",
    "\n",
    "print(\"Before swapping:\")\n",
    "print(\"a =\", a)\n",
    "print(\"b =\", b)\n",
    "\n",
    "# Swapping using a temporary variable\n",
    "temp = a\n",
    "a = b\n",
    "b = temp\n",
    "\n",
    "print(\"After swapping:\")\n",
    "print(\"a =\", a)\n",
    "print(\"b =\", b)\n"
   ]
  },
  {
   "cell_type": "markdown",
   "id": "5f43c86c",
   "metadata": {},
   "source": [
    "### 5. Write a Python program to generate a random number?"
   ]
  },
  {
   "cell_type": "code",
   "execution_count": 5,
   "id": "6871cdcb",
   "metadata": {},
   "outputs": [
    {
     "name": "stdout",
     "output_type": "stream",
     "text": [
      "Random number: 99\n"
     ]
    }
   ],
   "source": [
    "import random\n",
    "\n",
    "random_number = random.randint(1, 100)\n",
    "print(\"Random number:\", random_number)\n"
   ]
  },
  {
   "cell_type": "code",
   "execution_count": null,
   "id": "463f5638",
   "metadata": {},
   "outputs": [],
   "source": []
  }
 ],
 "metadata": {
  "kernelspec": {
   "display_name": "Python 3 (ipykernel)",
   "language": "python",
   "name": "python3"
  },
  "language_info": {
   "codemirror_mode": {
    "name": "ipython",
    "version": 3
   },
   "file_extension": ".py",
   "mimetype": "text/x-python",
   "name": "python",
   "nbconvert_exporter": "python",
   "pygments_lexer": "ipython3",
   "version": "3.10.9"
  }
 },
 "nbformat": 4,
 "nbformat_minor": 5
}
