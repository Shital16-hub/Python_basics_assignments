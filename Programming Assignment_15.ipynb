{
 "cells": [
  {
   "cell_type": "markdown",
   "id": "4c83b622",
   "metadata": {},
   "source": [
    "Question 1:\n",
    "Please write a program using generator to print the numbers which can be divisible by 5 and\n",
    "7 between 0 and n in comma separated form while n is input by console.\n",
    "\n",
    "Example:\n",
    "\n",
    "If the following n is given as input to the program:\n",
    "100\n",
    "\n",
    "Then, the output of the program should be:\n",
    "0,35,70"
   ]
  },
  {
   "cell_type": "code",
   "execution_count": 1,
   "id": "8e216966",
   "metadata": {},
   "outputs": [
    {
     "name": "stdout",
     "output_type": "stream",
     "text": [
      "Enter a number (n): 100\n",
      "0,35,70\n"
     ]
    }
   ],
   "source": [
    "def divisible_by_5_and_7(n):\n",
    "    for num in range(n + 1):\n",
    "        if num % 5 == 0 and num % 7 == 0:\n",
    "            yield num\n",
    "\n",
    "if __name__ == \"__main__\":\n",
    "    try:\n",
    "        n = int(input(\"Enter a number (n): \"))\n",
    "        if n < 0:\n",
    "            print(\"Please enter a non-negative number.\")\n",
    "        else:\n",
    "            result = divisible_by_5_and_7(n)\n",
    "            print(\",\".join(str(num) for num in result))\n",
    "    except ValueError:\n",
    "        print(\"Invalid input. Please enter a valid number.\")\n"
   ]
  },
  {
   "cell_type": "markdown",
   "id": "82889e8b",
   "metadata": {},
   "source": [
    "Question 2:\n",
    "Please write a program using generator to print the even numbers between 0 and n in comma\n",
    "separated form while n is input by console.\n",
    "\n",
    "Example:\n",
    "If the following n is given as input to the program:\n",
    "10\n",
    "\n",
    "Then, the output of the program should be:\n",
    "0,2,4,6,8,10"
   ]
  },
  {
   "cell_type": "code",
   "execution_count": 2,
   "id": "6842190e",
   "metadata": {},
   "outputs": [
    {
     "name": "stdout",
     "output_type": "stream",
     "text": [
      "Enter a number (n): 10\n",
      "0,2,4,6,8,10\n"
     ]
    }
   ],
   "source": [
    "def even_numbers(n):\n",
    "    for num in range(n + 1):\n",
    "        if num % 2 == 0:\n",
    "            yield num\n",
    "\n",
    "if __name__ == \"__main__\":\n",
    "    try:\n",
    "        n = int(input(\"Enter a number (n): \"))\n",
    "        if n < 0:\n",
    "            print(\"Please enter a non-negative number.\")\n",
    "        else:\n",
    "            result = even_numbers(n)\n",
    "            print(\",\".join(str(num) for num in result))\n",
    "    except ValueError:\n",
    "        print(\"Invalid input. Please enter a valid number.\")\n"
   ]
  },
  {
   "cell_type": "markdown",
   "id": "e28abab9",
   "metadata": {},
   "source": [
    "Question 3:\n",
    "The Fibonacci Sequence is computed based on the following formula:\n",
    "f(n)=0 if n=0\n",
    "f(n)=1 if n=1\n",
    "f(n)=f(n-1)+f(n-2) if n&gt;1\n",
    "Please write a program using list comprehension to print the Fibonacci Sequence in comma\n",
    "separated form with a given n input by console.\n",
    "\n",
    "Example:\n",
    "If the following n is given as input to the program:\n",
    "7\n",
    "\n",
    "Then, the output of the program should be:\n",
    "0,1,1,2,3,5,8,13"
   ]
  },
  {
   "cell_type": "code",
   "execution_count": 3,
   "id": "7c52beb9",
   "metadata": {},
   "outputs": [
    {
     "name": "stdout",
     "output_type": "stream",
     "text": [
      "Enter a number (n): 7\n",
      "0,1,1,2,3,5,8\n"
     ]
    }
   ],
   "source": [
    "def fibonacci_sequence(n):\n",
    "    if n == 0:\n",
    "        return []\n",
    "    elif n == 1:\n",
    "        return [0]\n",
    "    elif n == 2:\n",
    "        return [0, 1]\n",
    "    else:\n",
    "        fib_sequence = [0, 1]\n",
    "        while len(fib_sequence) < n:\n",
    "            next_num = fib_sequence[-1] + fib_sequence[-2]\n",
    "            fib_sequence.append(next_num)\n",
    "        return fib_sequence\n",
    "\n",
    "if __name__ == \"__main__\":\n",
    "    try:\n",
    "        n = int(input(\"Enter a number (n): \"))\n",
    "        if n < 0:\n",
    "            print(\"Please enter a non-negative number.\")\n",
    "        else:\n",
    "            result = fibonacci_sequence(n)\n",
    "            print(\",\".join(str(num) for num in result))\n",
    "    except ValueError:\n",
    "        print(\"Invalid input. Please enter a valid number.\")\n"
   ]
  },
  {
   "cell_type": "markdown",
   "id": "99c1455f",
   "metadata": {},
   "source": [
    "Question 4:\n",
    "Assuming that we have some email addresses in the &quot;username@companyname.com&quot; format,\n",
    "please write program to print the user name of a given email address. Both user names and\n",
    "company names are composed of letters only.\n",
    "\n",
    "Example:\n",
    "If the following email address is given as input to the program:\n",
    "\n",
    "john@google.com\n",
    "\n",
    "Then, the output of the program should be:\n",
    "john"
   ]
  },
  {
   "cell_type": "code",
   "execution_count": 4,
   "id": "fb5e9be2",
   "metadata": {},
   "outputs": [
    {
     "name": "stdout",
     "output_type": "stream",
     "text": [
      "Enter a number (n): 10\n",
      "0,1,1,2,3,5,8,13,21,34\n"
     ]
    }
   ],
   "source": [
    "def fibonacci_sequence(n):\n",
    "    if n == 0:\n",
    "        return []\n",
    "    elif n == 1:\n",
    "        return [0]\n",
    "    elif n == 2:\n",
    "        return [0, 1]\n",
    "    else:\n",
    "        fib_sequence = [0, 1]\n",
    "        while len(fib_sequence) < n:\n",
    "            next_num = fib_sequence[-1] + fib_sequence[-2]\n",
    "            fib_sequence.append(next_num)\n",
    "        return fib_sequence\n",
    "\n",
    "if __name__ == \"__main__\":\n",
    "    try:\n",
    "        n = int(input(\"Enter a number (n): \"))\n",
    "        if n < 0:\n",
    "            print(\"Please enter a non-negative number.\")\n",
    "        else:\n",
    "            result = fibonacci_sequence(n)\n",
    "            print(\",\".join(str(num) for num in result))\n",
    "    except ValueError:\n",
    "        print(\"Invalid input. Please enter a valid number.\")\n"
   ]
  },
  {
   "cell_type": "markdown",
   "id": "32507e92",
   "metadata": {},
   "source": [
    "Question 5:\n",
    "Define a class named Shape and its subclass Square. The Square class has an init function\n",
    "which takes a length as argument. Both classes have a area function which can print the area\n",
    "of the shape where Shape&#39;s area is 0 by default."
   ]
  },
  {
   "cell_type": "code",
   "execution_count": 5,
   "id": "5feaaac5",
   "metadata": {},
   "outputs": [
    {
     "name": "stdout",
     "output_type": "stream",
     "text": [
      "Area of the shape: 0\n",
      "Area of the square: 25\n"
     ]
    }
   ],
   "source": [
    "class Shape:\n",
    "    def __init__(self):\n",
    "        pass\n",
    "    \n",
    "    def area(self):\n",
    "        return 0\n",
    "\n",
    "class Square(Shape):\n",
    "    def __init__(self, length):\n",
    "        self.length = length\n",
    "\n",
    "    def area(self):\n",
    "        return self.length ** 2\n",
    "\n",
    "if __name__ == \"__main__\":\n",
    "    # Example usage\n",
    "    shape = Shape()\n",
    "    print(\"Area of the shape:\", shape.area())  # Output: 0\n",
    "\n",
    "    square = Square(5)\n",
    "    print(\"Area of the square:\", square.area())  # Output: 25\n"
   ]
  },
  {
   "cell_type": "code",
   "execution_count": null,
   "id": "109dfc9b",
   "metadata": {},
   "outputs": [],
   "source": []
  }
 ],
 "metadata": {
  "kernelspec": {
   "display_name": "Python 3 (ipykernel)",
   "language": "python",
   "name": "python3"
  },
  "language_info": {
   "codemirror_mode": {
    "name": "ipython",
    "version": 3
   },
   "file_extension": ".py",
   "mimetype": "text/x-python",
   "name": "python",
   "nbconvert_exporter": "python",
   "pygments_lexer": "ipython3",
   "version": "3.10.9"
  }
 },
 "nbformat": 4,
 "nbformat_minor": 5
}
